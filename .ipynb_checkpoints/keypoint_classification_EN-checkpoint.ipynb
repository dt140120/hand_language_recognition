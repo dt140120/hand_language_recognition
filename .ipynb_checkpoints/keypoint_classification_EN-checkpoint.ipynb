{
 "cells": [
  {
   "cell_type": "code",
   "execution_count": 165,
   "metadata": {
    "id": "igMyGnjE9hEp",
    "pycharm": {
     "is_executing": true
    }
   },
   "outputs": [],
   "source": [
    "import csv\n",
    "\n",
    "import numpy as np\n",
    "import tensorflow as tf\n",
    "from sklearn.model_selection import train_test_split\n",
    "\n",
    "RANDOM_SEED = 42"
   ]
  },
  {
   "cell_type": "markdown",
   "metadata": {
    "id": "t2HDvhIu9hEr"
   },
   "source": [
    "# Specify each path"
   ]
  },
  {
   "cell_type": "code",
   "execution_count": 166,
   "metadata": {
    "id": "9NvZP2Zn9hEy"
   },
   "outputs": [],
   "source": [
    "dataset = 'model/keypoint_classifier/keypoint.csv'\n",
    "model_save_path = 'model/keypoint_classifier/keypoint_classifier.hdf5'\n",
    "tflite_save_path = 'model/keypoint_classifier/keypoint_classifier.tflite'"
   ]
  },
  {
   "cell_type": "markdown",
   "metadata": {
    "id": "s5oMH7x19hEz"
   },
   "source": [
    "# Set number of classes"
   ]
  },
  {
   "cell_type": "code",
   "execution_count": 167,
   "metadata": {
    "id": "du4kodXL9hEz"
   },
   "outputs": [],
   "source": [
    "NUM_CLASSES = 7"
   ]
  },
  {
   "cell_type": "markdown",
   "metadata": {
    "id": "XjnL0uso9hEz"
   },
   "source": [
    "# Dataset reading"
   ]
  },
  {
   "cell_type": "code",
   "execution_count": 168,
   "metadata": {
    "id": "QT5ZqtEz9hE0"
   },
   "outputs": [],
   "source": [
    "X_dataset = np.loadtxt(dataset, delimiter=',', dtype='float32', usecols=list(range(1, (21 * 2) + 1)))"
   ]
  },
  {
   "cell_type": "code",
   "execution_count": 169,
   "metadata": {
    "id": "QmoKFsp49hE0"
   },
   "outputs": [
    {
     "data": {
      "text/plain": [
       "5519"
      ]
     },
     "execution_count": 169,
     "metadata": {},
     "output_type": "execute_result"
    }
   ],
   "source": [
    "y_dataset = np.loadtxt(dataset, delimiter=',', dtype='int32', usecols=(0))\n",
    "len(y_dataset)"
   ]
  },
  {
   "cell_type": "code",
   "execution_count": 170,
   "metadata": {
    "id": "xQU7JTZ_9hE0"
   },
   "outputs": [],
   "source": [
    "X_train, X_test, y_train, y_test = train_test_split(X_dataset, y_dataset, train_size=0.75, random_state=RANDOM_SEED)"
   ]
  },
  {
   "cell_type": "markdown",
   "metadata": {
    "id": "mxK_lETT9hE0"
   },
   "source": [
    "# Model building MLP"
   ]
  },
  {
   "cell_type": "code",
   "execution_count": 156,
   "metadata": {
    "id": "vHBmUf1t9hE1"
   },
   "outputs": [],
   "source": [
    "model_1 = tf.keras.models.Sequential([\n",
    "    tf.keras.layers.Input((21 * 2, )),\n",
    "    tf.keras.layers.Dropout(0.2),\n",
    "    tf.keras.layers.Dense(20, activation='relu'),\n",
    "    tf.keras.layers.Dropout(0.4),\n",
    "    tf.keras.layers.Dense(10, activation='relu'),\n",
    "    tf.keras.layers.Dense(NUM_CLASSES, activation='softmax')\n",
    "])"
   ]
  },
  {
   "cell_type": "code",
   "execution_count": 157,
   "metadata": {
    "colab": {
     "base_uri": "https://localhost:8080/"
    },
    "id": "ypqky9tc9hE1",
    "outputId": "5db082bb-30e3-4110-bf63-a1ee777ecd46",
    "scrolled": true
   },
   "outputs": [
    {
     "name": "stdout",
     "output_type": "stream",
     "text": [
      "Model: \"sequential_28\"\n",
      "_________________________________________________________________\n",
      " Layer (type)                Output Shape              Param #   \n",
      "=================================================================\n",
      " dropout_22 (Dropout)        (None, 42)                0         \n",
      "                                                                 \n",
      " dense_68 (Dense)            (None, 20)                860       \n",
      "                                                                 \n",
      " dropout_23 (Dropout)        (None, 20)                0         \n",
      "                                                                 \n",
      " dense_69 (Dense)            (None, 10)                210       \n",
      "                                                                 \n",
      " dense_70 (Dense)            (None, 7)                 77        \n",
      "                                                                 \n",
      "=================================================================\n",
      "Total params: 1,147\n",
      "Trainable params: 1,147\n",
      "Non-trainable params: 0\n",
      "_________________________________________________________________\n"
     ]
    }
   ],
   "source": [
    "model_1.summary()  # tf.keras.utils.plot_model(model, show_shapes=True)"
   ]
  },
  {
   "cell_type": "code",
   "execution_count": 158,
   "metadata": {
    "id": "c3Dac0M_9hE2"
   },
   "outputs": [],
   "source": [
    "# Model compilation\n",
    "model_1.compile(\n",
    "    optimizer='adam',\n",
    "    loss='sparse_categorical_crossentropy',\n",
    "    metrics=['accuracy']\n",
    ")"
   ]
  },
  {
   "cell_type": "markdown",
   "metadata": {},
   "source": [
    "# Model building CNN"
   ]
  },
  {
   "cell_type": "code",
   "execution_count": 147,
   "metadata": {},
   "outputs": [],
   "source": [
    "model_2 = tf.keras.models.Sequential([\n",
    "    tf.keras.layers.Conv1D(32, 3, activation='relu', input_shape=(42, 1)),\n",
    "    tf.keras.layers.MaxPooling1D(2),\n",
    "    tf.keras.layers.Conv1D(64, 3, activation='relu'),\n",
    "    tf.keras.layers.MaxPooling1D(2),\n",
    "    tf.keras.layers.Conv1D(64, 3, activation='relu'),\n",
    "    tf.keras.layers.Flatten(),\n",
    "    tf.keras.layers.Dense(64, activation='relu'),\n",
    "    tf.keras.layers.Dense(NUM_CLASSES, activation='softmax')\n",
    "])"
   ]
  },
  {
   "cell_type": "code",
   "execution_count": 148,
   "metadata": {},
   "outputs": [
    {
     "name": "stdout",
     "output_type": "stream",
     "text": [
      "Model: \"sequential_27\"\n",
      "_________________________________________________________________\n",
      " Layer (type)                Output Shape              Param #   \n",
      "=================================================================\n",
      " conv1d_51 (Conv1D)          (None, 40, 32)            128       \n",
      "                                                                 \n",
      " max_pooling1d_34 (MaxPoolin  (None, 20, 32)           0         \n",
      " g1D)                                                            \n",
      "                                                                 \n",
      " conv1d_52 (Conv1D)          (None, 18, 64)            6208      \n",
      "                                                                 \n",
      " max_pooling1d_35 (MaxPoolin  (None, 9, 64)            0         \n",
      " g1D)                                                            \n",
      "                                                                 \n",
      " conv1d_53 (Conv1D)          (None, 7, 64)             12352     \n",
      "                                                                 \n",
      " flatten_17 (Flatten)        (None, 448)               0         \n",
      "                                                                 \n",
      " dense_66 (Dense)            (None, 64)                28736     \n",
      "                                                                 \n",
      " dense_67 (Dense)            (None, 7)                 455       \n",
      "                                                                 \n",
      "=================================================================\n",
      "Total params: 47,879\n",
      "Trainable params: 47,879\n",
      "Non-trainable params: 0\n",
      "_________________________________________________________________\n"
     ]
    }
   ],
   "source": [
    "model_2.summary()  # tf.keras.utils.plot_model(model, show_shapes=True)"
   ]
  },
  {
   "cell_type": "code",
   "execution_count": 149,
   "metadata": {},
   "outputs": [],
   "source": [
    "# Model compilation\n",
    "model_2.compile(\n",
    "    optimizer='adam',\n",
    "    loss='sparse_categorical_crossentropy',\n",
    "    metrics=['accuracy']\n",
    ")"
   ]
  },
  {
   "cell_type": "markdown",
   "metadata": {},
   "source": [
    "# Model building LSTM"
   ]
  },
  {
   "cell_type": "code",
   "execution_count": 172,
   "metadata": {},
   "outputs": [],
   "source": [
    "model_3 = tf.keras.models.Sequential([\n",
    "    tf.keras.layers.LSTM(42, input_shape=(42, 1)),\n",
    "    tf.keras.layers.Dropout(0.5),\n",
    "    tf.keras.layers.Dense(10, activation='relu'),\n",
    "    tf.keras.layers.Dense(NUM_CLASSES, activation='softmax')\n",
    "])"
   ]
  },
  {
   "cell_type": "code",
   "execution_count": 174,
   "metadata": {},
   "outputs": [
    {
     "name": "stdout",
     "output_type": "stream",
     "text": [
      "Model: \"sequential_30\"\n",
      "_________________________________________________________________\n",
      " Layer (type)                Output Shape              Param #   \n",
      "=================================================================\n",
      " lstm_1 (LSTM)               (None, 42)                7392      \n",
      "                                                                 \n",
      " dropout_25 (Dropout)        (None, 42)                0         \n",
      "                                                                 \n",
      " dense_73 (Dense)            (None, 10)                430       \n",
      "                                                                 \n",
      " dense_74 (Dense)            (None, 7)                 77        \n",
      "                                                                 \n",
      "=================================================================\n",
      "Total params: 7,899\n",
      "Trainable params: 7,899\n",
      "Non-trainable params: 0\n",
      "_________________________________________________________________\n"
     ]
    }
   ],
   "source": [
    "model_3.summary()"
   ]
  },
  {
   "cell_type": "code",
   "execution_count": 175,
   "metadata": {},
   "outputs": [],
   "source": [
    "# Model compilation\n",
    "model_3.compile(\n",
    "    optimizer='adam',\n",
    "    loss='sparse_categorical_crossentropy',\n",
    "    metrics=['accuracy']\n",
    ")"
   ]
  },
  {
   "cell_type": "markdown",
   "metadata": {},
   "source": [
    "# CallBack"
   ]
  },
  {
   "cell_type": "code",
   "execution_count": 176,
   "metadata": {},
   "outputs": [],
   "source": [
    "# Model checkpoint callback\n",
    "cp_callback = tf.keras.callbacks.ModelCheckpoint(\n",
    "    model_save_path, verbose=1, save_weights_only=False)\n",
    "# Callback for early stopping\n",
    "es_callback = tf.keras.callbacks.EarlyStopping(patience=20, verbose=1)"
   ]
  },
  {
   "cell_type": "markdown",
   "metadata": {
    "id": "7XI0j1Iu9hE2"
   },
   "source": [
    "# Model training"
   ]
  },
  {
   "cell_type": "code",
   "execution_count": 177,
   "metadata": {
    "colab": {
     "base_uri": "https://localhost:8080/"
    },
    "id": "WirBl-JE9hE3",
    "outputId": "71b30ca2-8294-4d9d-8aa2-800d90d399de",
    "scrolled": false
   },
   "outputs": [
    {
     "name": "stdout",
     "output_type": "stream",
     "text": [
      "Epoch 1/10000\n",
      "30/33 [==========================>...] - ETA: 0s - loss: 1.8961 - accuracy: 0.2786\n",
      "Epoch 1: saving model to model/keypoint_classifier/keypoint_classifier.hdf5\n",
      "33/33 [==============================] - 2s 27ms/step - loss: 1.8871 - accuracy: 0.2807 - val_loss: 1.7466 - val_accuracy: 0.2725\n",
      "Epoch 2/10000\n",
      "33/33 [==============================] - ETA: 0s - loss: 1.6945 - accuracy: 0.2822\n",
      "Epoch 2: saving model to model/keypoint_classifier/keypoint_classifier.hdf5\n",
      "33/33 [==============================] - 1s 17ms/step - loss: 1.6945 - accuracy: 0.2822 - val_loss: 1.6317 - val_accuracy: 0.3043\n",
      "Epoch 3/10000\n",
      "33/33 [==============================] - ETA: 0s - loss: 1.6095 - accuracy: 0.2708\n",
      "Epoch 3: saving model to model/keypoint_classifier/keypoint_classifier.hdf5\n",
      "33/33 [==============================] - 1s 16ms/step - loss: 1.6095 - accuracy: 0.2708 - val_loss: 1.5241 - val_accuracy: 0.2341\n",
      "Epoch 4/10000\n",
      "33/33 [==============================] - ETA: 0s - loss: 1.5024 - accuracy: 0.2979\n",
      "Epoch 4: saving model to model/keypoint_classifier/keypoint_classifier.hdf5\n",
      "33/33 [==============================] - 1s 17ms/step - loss: 1.5024 - accuracy: 0.2979 - val_loss: 1.4596 - val_accuracy: 0.3507\n",
      "Epoch 5/10000\n",
      "33/33 [==============================] - ETA: 0s - loss: 1.4712 - accuracy: 0.2986\n",
      "Epoch 5: saving model to model/keypoint_classifier/keypoint_classifier.hdf5\n",
      "33/33 [==============================] - 1s 17ms/step - loss: 1.4712 - accuracy: 0.2986 - val_loss: 1.4563 - val_accuracy: 0.3080\n",
      "Epoch 6/10000\n",
      "33/33 [==============================] - ETA: 0s - loss: 1.4473 - accuracy: 0.3049\n",
      "Epoch 6: saving model to model/keypoint_classifier/keypoint_classifier.hdf5\n",
      "33/33 [==============================] - 1s 17ms/step - loss: 1.4473 - accuracy: 0.3049 - val_loss: 1.4689 - val_accuracy: 0.3232\n",
      "Epoch 7/10000\n",
      "33/33 [==============================] - ETA: 0s - loss: 1.4865 - accuracy: 0.3088\n",
      "Epoch 7: saving model to model/keypoint_classifier/keypoint_classifier.hdf5\n",
      "33/33 [==============================] - 1s 17ms/step - loss: 1.4865 - accuracy: 0.3088 - val_loss: 1.4470 - val_accuracy: 0.3254\n",
      "Epoch 8/10000\n",
      "29/33 [=========================>....] - ETA: 0s - loss: 1.4435 - accuracy: 0.3195\n",
      "Epoch 8: saving model to model/keypoint_classifier/keypoint_classifier.hdf5\n",
      "33/33 [==============================] - 1s 17ms/step - loss: 1.4468 - accuracy: 0.3233 - val_loss: 1.4745 - val_accuracy: 0.3812\n",
      "Epoch 9/10000\n",
      "33/33 [==============================] - ETA: 0s - loss: 1.4066 - accuracy: 0.3399\n",
      "Epoch 9: saving model to model/keypoint_classifier/keypoint_classifier.hdf5\n",
      "33/33 [==============================] - 1s 17ms/step - loss: 1.4066 - accuracy: 0.3399 - val_loss: 1.3827 - val_accuracy: 0.4254\n",
      "Epoch 10/10000\n",
      "33/33 [==============================] - ETA: 0s - loss: 1.3948 - accuracy: 0.3300\n",
      "Epoch 10: saving model to model/keypoint_classifier/keypoint_classifier.hdf5\n",
      "33/33 [==============================] - 1s 17ms/step - loss: 1.3948 - accuracy: 0.3300 - val_loss: 1.3871 - val_accuracy: 0.3435\n",
      "Epoch 11/10000\n",
      "33/33 [==============================] - ETA: 0s - loss: 1.3766 - accuracy: 0.3341\n",
      "Epoch 11: saving model to model/keypoint_classifier/keypoint_classifier.hdf5\n",
      "33/33 [==============================] - 1s 17ms/step - loss: 1.3766 - accuracy: 0.3341 - val_loss: 1.3739 - val_accuracy: 0.3333\n",
      "Epoch 12/10000\n",
      "33/33 [==============================] - ETA: 0s - loss: 1.3639 - accuracy: 0.3431\n",
      "Epoch 12: saving model to model/keypoint_classifier/keypoint_classifier.hdf5\n",
      "33/33 [==============================] - 1s 16ms/step - loss: 1.3639 - accuracy: 0.3431 - val_loss: 1.3338 - val_accuracy: 0.3580\n",
      "Epoch 13/10000\n",
      "33/33 [==============================] - ETA: 0s - loss: 1.3158 - accuracy: 0.3622\n",
      "Epoch 13: saving model to model/keypoint_classifier/keypoint_classifier.hdf5\n",
      "33/33 [==============================] - 1s 16ms/step - loss: 1.3158 - accuracy: 0.3622 - val_loss: 1.2717 - val_accuracy: 0.3899\n",
      "Epoch 14/10000\n",
      "33/33 [==============================] - ETA: 0s - loss: 1.2597 - accuracy: 0.3936\n",
      "Epoch 14: saving model to model/keypoint_classifier/keypoint_classifier.hdf5\n",
      "33/33 [==============================] - 1s 17ms/step - loss: 1.2597 - accuracy: 0.3936 - val_loss: 1.2159 - val_accuracy: 0.4080\n",
      "Epoch 15/10000\n",
      "32/33 [============================>.] - ETA: 0s - loss: 1.2114 - accuracy: 0.4077\n",
      "Epoch 15: saving model to model/keypoint_classifier/keypoint_classifier.hdf5\n",
      "33/33 [==============================] - 1s 17ms/step - loss: 1.2111 - accuracy: 0.4073 - val_loss: 1.1607 - val_accuracy: 0.4094\n",
      "Epoch 16/10000\n",
      "29/33 [=========================>....] - ETA: 0s - loss: 1.1997 - accuracy: 0.4098\n",
      "Epoch 16: saving model to model/keypoint_classifier/keypoint_classifier.hdf5\n",
      "33/33 [==============================] - 1s 16ms/step - loss: 1.1938 - accuracy: 0.4134 - val_loss: 1.1294 - val_accuracy: 0.5399\n",
      "Epoch 17/10000\n",
      "33/33 [==============================] - ETA: 0s - loss: 1.1599 - accuracy: 0.4443\n",
      "Epoch 17: saving model to model/keypoint_classifier/keypoint_classifier.hdf5\n",
      "33/33 [==============================] - 1s 17ms/step - loss: 1.1599 - accuracy: 0.4443 - val_loss: 1.1222 - val_accuracy: 0.4261\n",
      "Epoch 18/10000\n",
      "33/33 [==============================] - ETA: 0s - loss: 1.1259 - accuracy: 0.4571\n",
      "Epoch 18: saving model to model/keypoint_classifier/keypoint_classifier.hdf5\n",
      "33/33 [==============================] - 1s 16ms/step - loss: 1.1259 - accuracy: 0.4571 - val_loss: 1.0590 - val_accuracy: 0.5449\n",
      "Epoch 19/10000\n",
      "32/33 [============================>.] - ETA: 0s - loss: 1.1123 - accuracy: 0.4573\n",
      "Epoch 19: saving model to model/keypoint_classifier/keypoint_classifier.hdf5\n",
      "33/33 [==============================] - 1s 19ms/step - loss: 1.1121 - accuracy: 0.4586 - val_loss: 1.0694 - val_accuracy: 0.5457\n",
      "Epoch 20/10000\n",
      "33/33 [==============================] - ETA: 0s - loss: 1.0926 - accuracy: 0.4726\n",
      "Epoch 20: saving model to model/keypoint_classifier/keypoint_classifier.hdf5\n",
      "33/33 [==============================] - 1s 17ms/step - loss: 1.0926 - accuracy: 0.4726 - val_loss: 1.0471 - val_accuracy: 0.4790\n",
      "Epoch 21/10000\n",
      "33/33 [==============================] - ETA: 0s - loss: 1.0857 - accuracy: 0.4900\n",
      "Epoch 21: saving model to model/keypoint_classifier/keypoint_classifier.hdf5\n",
      "33/33 [==============================] - 1s 16ms/step - loss: 1.0857 - accuracy: 0.4900 - val_loss: 1.0018 - val_accuracy: 0.5681\n",
      "Epoch 22/10000\n",
      "33/33 [==============================] - ETA: 0s - loss: 1.0622 - accuracy: 0.4883\n",
      "Epoch 22: saving model to model/keypoint_classifier/keypoint_classifier.hdf5\n",
      "33/33 [==============================] - 1s 17ms/step - loss: 1.0622 - accuracy: 0.4883 - val_loss: 0.9813 - val_accuracy: 0.5986\n",
      "Epoch 23/10000\n",
      "33/33 [==============================] - ETA: 0s - loss: 1.0436 - accuracy: 0.5001\n",
      "Epoch 23: saving model to model/keypoint_classifier/keypoint_classifier.hdf5\n",
      "33/33 [==============================] - 1s 17ms/step - loss: 1.0436 - accuracy: 0.5001 - val_loss: 0.9940 - val_accuracy: 0.5804\n",
      "Epoch 24/10000\n",
      "29/33 [=========================>....] - ETA: 0s - loss: 1.0235 - accuracy: 0.5067\n",
      "Epoch 24: saving model to model/keypoint_classifier/keypoint_classifier.hdf5\n",
      "33/33 [==============================] - 1s 16ms/step - loss: 1.0177 - accuracy: 0.5112 - val_loss: 0.9354 - val_accuracy: 0.6232\n",
      "Epoch 25/10000\n",
      "33/33 [==============================] - ETA: 0s - loss: 1.0038 - accuracy: 0.5240\n",
      "Epoch 25: saving model to model/keypoint_classifier/keypoint_classifier.hdf5\n",
      "33/33 [==============================] - 1s 16ms/step - loss: 1.0038 - accuracy: 0.5240 - val_loss: 0.9077 - val_accuracy: 0.6428\n",
      "Epoch 26/10000\n",
      "33/33 [==============================] - ETA: 0s - loss: 1.0022 - accuracy: 0.5211\n",
      "Epoch 26: saving model to model/keypoint_classifier/keypoint_classifier.hdf5\n",
      "33/33 [==============================] - 1s 18ms/step - loss: 1.0022 - accuracy: 0.5211 - val_loss: 0.9638 - val_accuracy: 0.5739\n",
      "Epoch 27/10000\n",
      "33/33 [==============================] - ETA: 0s - loss: 0.9943 - accuracy: 0.5284\n",
      "Epoch 27: saving model to model/keypoint_classifier/keypoint_classifier.hdf5\n",
      "33/33 [==============================] - 1s 17ms/step - loss: 0.9943 - accuracy: 0.5284 - val_loss: 0.8977 - val_accuracy: 0.6203\n"
     ]
    },
    {
     "name": "stdout",
     "output_type": "stream",
     "text": [
      "Epoch 28/10000\n",
      "33/33 [==============================] - ETA: 0s - loss: 0.9865 - accuracy: 0.5240\n",
      "Epoch 28: saving model to model/keypoint_classifier/keypoint_classifier.hdf5\n",
      "33/33 [==============================] - 1s 17ms/step - loss: 0.9865 - accuracy: 0.5240 - val_loss: 0.9117 - val_accuracy: 0.6051\n",
      "Epoch 29/10000\n",
      "33/33 [==============================] - ETA: 0s - loss: 0.9496 - accuracy: 0.5542\n",
      "Epoch 29: saving model to model/keypoint_classifier/keypoint_classifier.hdf5\n",
      "33/33 [==============================] - 1s 17ms/step - loss: 0.9496 - accuracy: 0.5542 - val_loss: 0.8933 - val_accuracy: 0.6130\n",
      "Epoch 30/10000\n",
      "33/33 [==============================] - ETA: 0s - loss: 0.9725 - accuracy: 0.5248\n",
      "Epoch 30: saving model to model/keypoint_classifier/keypoint_classifier.hdf5\n",
      "33/33 [==============================] - 1s 16ms/step - loss: 0.9725 - accuracy: 0.5248 - val_loss: 0.9470 - val_accuracy: 0.5826\n",
      "Epoch 31/10000\n",
      "33/33 [==============================] - ETA: 0s - loss: 0.9518 - accuracy: 0.5352\n",
      "Epoch 31: saving model to model/keypoint_classifier/keypoint_classifier.hdf5\n",
      "33/33 [==============================] - 1s 17ms/step - loss: 0.9518 - accuracy: 0.5352 - val_loss: 0.8666 - val_accuracy: 0.6457\n",
      "Epoch 32/10000\n",
      "32/33 [============================>.] - ETA: 0s - loss: 0.9256 - accuracy: 0.5513\n",
      "Epoch 32: saving model to model/keypoint_classifier/keypoint_classifier.hdf5\n",
      "33/33 [==============================] - 1s 18ms/step - loss: 0.9255 - accuracy: 0.5513 - val_loss: 0.8813 - val_accuracy: 0.6348\n",
      "Epoch 33/10000\n",
      "33/33 [==============================] - ETA: 0s - loss: 0.9819 - accuracy: 0.5352\n",
      "Epoch 33: saving model to model/keypoint_classifier/keypoint_classifier.hdf5\n",
      "33/33 [==============================] - 1s 17ms/step - loss: 0.9819 - accuracy: 0.5352 - val_loss: 0.8719 - val_accuracy: 0.6420\n",
      "Epoch 34/10000\n",
      "30/33 [==========================>...] - ETA: 0s - loss: 0.9393 - accuracy: 0.5578\n",
      "Epoch 34: saving model to model/keypoint_classifier/keypoint_classifier.hdf5\n",
      "33/33 [==============================] - 1s 18ms/step - loss: 0.9365 - accuracy: 0.5586 - val_loss: 0.8393 - val_accuracy: 0.6507\n",
      "Epoch 35/10000\n",
      "33/33 [==============================] - ETA: 0s - loss: 0.9057 - accuracy: 0.5697\n",
      "Epoch 35: saving model to model/keypoint_classifier/keypoint_classifier.hdf5\n",
      "33/33 [==============================] - 1s 17ms/step - loss: 0.9057 - accuracy: 0.5697 - val_loss: 0.8441 - val_accuracy: 0.6536\n",
      "Epoch 36/10000\n",
      "33/33 [==============================] - ETA: 0s - loss: 0.9130 - accuracy: 0.5639\n",
      "Epoch 36: saving model to model/keypoint_classifier/keypoint_classifier.hdf5\n",
      "33/33 [==============================] - 1s 17ms/step - loss: 0.9130 - accuracy: 0.5639 - val_loss: 0.8589 - val_accuracy: 0.6283\n",
      "Epoch 37/10000\n",
      "33/33 [==============================] - ETA: 0s - loss: 0.8897 - accuracy: 0.5837\n",
      "Epoch 37: saving model to model/keypoint_classifier/keypoint_classifier.hdf5\n",
      "33/33 [==============================] - 1s 17ms/step - loss: 0.8897 - accuracy: 0.5837 - val_loss: 0.8277 - val_accuracy: 0.6529\n",
      "Epoch 38/10000\n",
      "29/33 [=========================>....] - ETA: 0s - loss: 0.8823 - accuracy: 0.5857\n",
      "Epoch 38: saving model to model/keypoint_classifier/keypoint_classifier.hdf5\n",
      "33/33 [==============================] - 1s 16ms/step - loss: 0.8898 - accuracy: 0.5796 - val_loss: 0.8432 - val_accuracy: 0.6413\n",
      "Epoch 39/10000\n",
      "33/33 [==============================] - ETA: 0s - loss: 0.8849 - accuracy: 0.5806\n",
      "Epoch 39: saving model to model/keypoint_classifier/keypoint_classifier.hdf5\n",
      "33/33 [==============================] - 1s 17ms/step - loss: 0.8849 - accuracy: 0.5806 - val_loss: 0.7852 - val_accuracy: 0.6739\n",
      "Epoch 40/10000\n",
      "32/33 [============================>.] - ETA: 0s - loss: 0.8732 - accuracy: 0.6038\n",
      "Epoch 40: saving model to model/keypoint_classifier/keypoint_classifier.hdf5\n",
      "33/33 [==============================] - 1s 17ms/step - loss: 0.8734 - accuracy: 0.6038 - val_loss: 0.8144 - val_accuracy: 0.6464\n",
      "Epoch 41/10000\n",
      "33/33 [==============================] - ETA: 0s - loss: 0.9128 - accuracy: 0.5943\n",
      "Epoch 41: saving model to model/keypoint_classifier/keypoint_classifier.hdf5\n",
      "33/33 [==============================] - 1s 17ms/step - loss: 0.9128 - accuracy: 0.5943 - val_loss: 0.7946 - val_accuracy: 0.6572\n",
      "Epoch 42/10000\n",
      "33/33 [==============================] - ETA: 0s - loss: 0.8616 - accuracy: 0.6144\n",
      "Epoch 42: saving model to model/keypoint_classifier/keypoint_classifier.hdf5\n",
      "33/33 [==============================] - 1s 17ms/step - loss: 0.8616 - accuracy: 0.6144 - val_loss: 1.0666 - val_accuracy: 0.5319\n",
      "Epoch 43/10000\n",
      "33/33 [==============================] - ETA: 0s - loss: 0.8796 - accuracy: 0.6151\n",
      "Epoch 43: saving model to model/keypoint_classifier/keypoint_classifier.hdf5\n",
      "33/33 [==============================] - 1s 18ms/step - loss: 0.8796 - accuracy: 0.6151 - val_loss: 0.8350 - val_accuracy: 0.6326\n",
      "Epoch 44/10000\n",
      "33/33 [==============================] - ETA: 0s - loss: 0.8711 - accuracy: 0.6134\n",
      "Epoch 44: saving model to model/keypoint_classifier/keypoint_classifier.hdf5\n",
      "33/33 [==============================] - 1s 18ms/step - loss: 0.8711 - accuracy: 0.6134 - val_loss: 0.7891 - val_accuracy: 0.6645\n",
      "Epoch 45/10000\n",
      "33/33 [==============================] - ETA: 0s - loss: 0.8283 - accuracy: 0.6243\n",
      "Epoch 45: saving model to model/keypoint_classifier/keypoint_classifier.hdf5\n",
      "33/33 [==============================] - 1s 17ms/step - loss: 0.8283 - accuracy: 0.6243 - val_loss: 0.7575 - val_accuracy: 0.6841\n",
      "Epoch 46/10000\n",
      "33/33 [==============================] - ETA: 0s - loss: 0.8116 - accuracy: 0.6306\n",
      "Epoch 46: saving model to model/keypoint_classifier/keypoint_classifier.hdf5\n",
      "33/33 [==============================] - 1s 17ms/step - loss: 0.8116 - accuracy: 0.6306 - val_loss: 0.7617 - val_accuracy: 0.6746\n",
      "Epoch 47/10000\n",
      "33/33 [==============================] - ETA: 0s - loss: 0.8240 - accuracy: 0.6241\n",
      "Epoch 47: saving model to model/keypoint_classifier/keypoint_classifier.hdf5\n",
      "33/33 [==============================] - 1s 17ms/step - loss: 0.8240 - accuracy: 0.6241 - val_loss: 0.7550 - val_accuracy: 0.6906\n",
      "Epoch 48/10000\n",
      "33/33 [==============================] - ETA: 0s - loss: 0.8230 - accuracy: 0.6347\n",
      "Epoch 48: saving model to model/keypoint_classifier/keypoint_classifier.hdf5\n",
      "33/33 [==============================] - 1s 16ms/step - loss: 0.8230 - accuracy: 0.6347 - val_loss: 0.7903 - val_accuracy: 0.6674\n",
      "Epoch 49/10000\n",
      "31/33 [===========================>..] - ETA: 0s - loss: 0.8216 - accuracy: 0.6250\n",
      "Epoch 49: saving model to model/keypoint_classifier/keypoint_classifier.hdf5\n",
      "33/33 [==============================] - 1s 18ms/step - loss: 0.8190 - accuracy: 0.6262 - val_loss: 0.7222 - val_accuracy: 0.7007\n",
      "Epoch 50/10000\n",
      "29/33 [=========================>....] - ETA: 0s - loss: 0.7772 - accuracy: 0.6678\n",
      "Epoch 50: saving model to model/keypoint_classifier/keypoint_classifier.hdf5\n",
      "33/33 [==============================] - 1s 17ms/step - loss: 0.7836 - accuracy: 0.6666 - val_loss: 0.7418 - val_accuracy: 0.7043\n",
      "Epoch 51/10000\n",
      "33/33 [==============================] - ETA: 0s - loss: 0.7780 - accuracy: 0.6673\n",
      "Epoch 51: saving model to model/keypoint_classifier/keypoint_classifier.hdf5\n",
      "33/33 [==============================] - 1s 17ms/step - loss: 0.7780 - accuracy: 0.6673 - val_loss: 0.8162 - val_accuracy: 0.6623\n",
      "Epoch 52/10000\n",
      "33/33 [==============================] - ETA: 0s - loss: 0.8019 - accuracy: 0.6586\n",
      "Epoch 52: saving model to model/keypoint_classifier/keypoint_classifier.hdf5\n",
      "33/33 [==============================] - 1s 17ms/step - loss: 0.8019 - accuracy: 0.6586 - val_loss: 0.7061 - val_accuracy: 0.7094\n",
      "Epoch 53/10000\n",
      "33/33 [==============================] - ETA: 0s - loss: 0.7702 - accuracy: 0.6625\n",
      "Epoch 53: saving model to model/keypoint_classifier/keypoint_classifier.hdf5\n",
      "33/33 [==============================] - 1s 17ms/step - loss: 0.7702 - accuracy: 0.6625 - val_loss: 0.7221 - val_accuracy: 0.7058\n",
      "Epoch 54/10000\n",
      "33/33 [==============================] - ETA: 0s - loss: 0.7758 - accuracy: 0.6673\n",
      "Epoch 54: saving model to model/keypoint_classifier/keypoint_classifier.hdf5\n",
      "33/33 [==============================] - 1s 17ms/step - loss: 0.7758 - accuracy: 0.6673 - val_loss: 0.6967 - val_accuracy: 0.6942\n"
     ]
    },
    {
     "name": "stdout",
     "output_type": "stream",
     "text": [
      "Epoch 55/10000\n",
      "33/33 [==============================] - ETA: 0s - loss: 0.8049 - accuracy: 0.6555\n",
      "Epoch 55: saving model to model/keypoint_classifier/keypoint_classifier.hdf5\n",
      "33/33 [==============================] - 1s 17ms/step - loss: 0.8049 - accuracy: 0.6555 - val_loss: 0.7521 - val_accuracy: 0.6848\n",
      "Epoch 56/10000\n",
      "29/33 [=========================>....] - ETA: 0s - loss: 0.7865 - accuracy: 0.6484\n",
      "Epoch 56: saving model to model/keypoint_classifier/keypoint_classifier.hdf5\n",
      "33/33 [==============================] - 1s 16ms/step - loss: 0.7899 - accuracy: 0.6475 - val_loss: 0.7220 - val_accuracy: 0.7101\n",
      "Epoch 57/10000\n",
      "33/33 [==============================] - ETA: 0s - loss: 0.7902 - accuracy: 0.6555\n",
      "Epoch 57: saving model to model/keypoint_classifier/keypoint_classifier.hdf5\n",
      "33/33 [==============================] - 1s 17ms/step - loss: 0.7902 - accuracy: 0.6555 - val_loss: 0.6982 - val_accuracy: 0.7123\n",
      "Epoch 58/10000\n",
      "29/33 [=========================>....] - ETA: 0s - loss: 0.7866 - accuracy: 0.6751\n",
      "Epoch 58: saving model to model/keypoint_classifier/keypoint_classifier.hdf5\n",
      "33/33 [==============================] - 1s 16ms/step - loss: 0.7955 - accuracy: 0.6690 - val_loss: 0.9834 - val_accuracy: 0.6058\n",
      "Epoch 59/10000\n",
      "33/33 [==============================] - ETA: 0s - loss: 0.8001 - accuracy: 0.6705\n",
      "Epoch 59: saving model to model/keypoint_classifier/keypoint_classifier.hdf5\n",
      "33/33 [==============================] - 1s 17ms/step - loss: 0.8001 - accuracy: 0.6705 - val_loss: 0.6968 - val_accuracy: 0.7181\n",
      "Epoch 60/10000\n",
      "33/33 [==============================] - ETA: 0s - loss: 0.7340 - accuracy: 0.6963\n",
      "Epoch 60: saving model to model/keypoint_classifier/keypoint_classifier.hdf5\n",
      "33/33 [==============================] - 1s 17ms/step - loss: 0.7340 - accuracy: 0.6963 - val_loss: 0.7359 - val_accuracy: 0.6797\n",
      "Epoch 61/10000\n",
      "33/33 [==============================] - ETA: 0s - loss: 0.7351 - accuracy: 0.6980\n",
      "Epoch 61: saving model to model/keypoint_classifier/keypoint_classifier.hdf5\n",
      "33/33 [==============================] - 1s 17ms/step - loss: 0.7351 - accuracy: 0.6980 - val_loss: 0.6286 - val_accuracy: 0.7558\n",
      "Epoch 62/10000\n",
      "33/33 [==============================] - ETA: 0s - loss: 0.7095 - accuracy: 0.7113\n",
      "Epoch 62: saving model to model/keypoint_classifier/keypoint_classifier.hdf5\n",
      "33/33 [==============================] - 1s 17ms/step - loss: 0.7095 - accuracy: 0.7113 - val_loss: 0.6671 - val_accuracy: 0.7326\n",
      "Epoch 63/10000\n",
      "32/33 [============================>.] - ETA: 0s - loss: 0.6893 - accuracy: 0.7214\n",
      "Epoch 63: saving model to model/keypoint_classifier/keypoint_classifier.hdf5\n",
      "33/33 [==============================] - 1s 17ms/step - loss: 0.6880 - accuracy: 0.7224 - val_loss: 0.6463 - val_accuracy: 0.7406\n",
      "Epoch 64/10000\n",
      "33/33 [==============================] - ETA: 0s - loss: 0.6899 - accuracy: 0.7084\n",
      "Epoch 64: saving model to model/keypoint_classifier/keypoint_classifier.hdf5\n",
      "33/33 [==============================] - 1s 17ms/step - loss: 0.6899 - accuracy: 0.7084 - val_loss: 0.6387 - val_accuracy: 0.7319\n",
      "Epoch 65/10000\n",
      "33/33 [==============================] - ETA: 0s - loss: 0.6816 - accuracy: 0.7258\n",
      "Epoch 65: saving model to model/keypoint_classifier/keypoint_classifier.hdf5\n",
      "33/33 [==============================] - 1s 17ms/step - loss: 0.6816 - accuracy: 0.7258 - val_loss: 0.6022 - val_accuracy: 0.7609\n",
      "Epoch 66/10000\n",
      "32/33 [============================>.] - ETA: 0s - loss: 0.7049 - accuracy: 0.7141\n",
      "Epoch 66: saving model to model/keypoint_classifier/keypoint_classifier.hdf5\n",
      "33/33 [==============================] - 1s 17ms/step - loss: 0.7051 - accuracy: 0.7147 - val_loss: 0.7356 - val_accuracy: 0.7123\n",
      "Epoch 67/10000\n",
      "33/33 [==============================] - ETA: 0s - loss: 0.7208 - accuracy: 0.7048\n",
      "Epoch 67: saving model to model/keypoint_classifier/keypoint_classifier.hdf5\n",
      "33/33 [==============================] - 1s 17ms/step - loss: 0.7208 - accuracy: 0.7048 - val_loss: 0.6346 - val_accuracy: 0.7391\n",
      "Epoch 68/10000\n",
      "33/33 [==============================] - ETA: 0s - loss: 0.6643 - accuracy: 0.7396\n",
      "Epoch 68: saving model to model/keypoint_classifier/keypoint_classifier.hdf5\n",
      "33/33 [==============================] - 1s 16ms/step - loss: 0.6643 - accuracy: 0.7396 - val_loss: 0.5819 - val_accuracy: 0.7746\n",
      "Epoch 69/10000\n",
      "33/33 [==============================] - ETA: 0s - loss: 0.6310 - accuracy: 0.7533\n",
      "Epoch 69: saving model to model/keypoint_classifier/keypoint_classifier.hdf5\n",
      "33/33 [==============================] - 1s 17ms/step - loss: 0.6310 - accuracy: 0.7533 - val_loss: 0.5417 - val_accuracy: 0.8029\n",
      "Epoch 70/10000\n",
      "33/33 [==============================] - ETA: 0s - loss: 0.6362 - accuracy: 0.7531\n",
      "Epoch 70: saving model to model/keypoint_classifier/keypoint_classifier.hdf5\n",
      "33/33 [==============================] - 1s 17ms/step - loss: 0.6362 - accuracy: 0.7531 - val_loss: 0.5719 - val_accuracy: 0.7855\n",
      "Epoch 71/10000\n",
      "33/33 [==============================] - ETA: 0s - loss: 0.6239 - accuracy: 0.7528\n",
      "Epoch 71: saving model to model/keypoint_classifier/keypoint_classifier.hdf5\n",
      "33/33 [==============================] - 1s 17ms/step - loss: 0.6239 - accuracy: 0.7528 - val_loss: 0.5129 - val_accuracy: 0.8065\n",
      "Epoch 72/10000\n",
      "33/33 [==============================] - ETA: 0s - loss: 0.5986 - accuracy: 0.7700\n",
      "Epoch 72: saving model to model/keypoint_classifier/keypoint_classifier.hdf5\n",
      "33/33 [==============================] - 1s 16ms/step - loss: 0.5986 - accuracy: 0.7700 - val_loss: 0.6330 - val_accuracy: 0.7507\n",
      "Epoch 73/10000\n",
      "33/33 [==============================] - ETA: 0s - loss: 0.6387 - accuracy: 0.7495\n",
      "Epoch 73: saving model to model/keypoint_classifier/keypoint_classifier.hdf5\n",
      "33/33 [==============================] - 1s 17ms/step - loss: 0.6387 - accuracy: 0.7495 - val_loss: 0.5277 - val_accuracy: 0.7993\n",
      "Epoch 74/10000\n",
      "29/33 [=========================>....] - ETA: 0s - loss: 0.5662 - accuracy: 0.7812\n",
      "Epoch 74: saving model to model/keypoint_classifier/keypoint_classifier.hdf5\n",
      "33/33 [==============================] - 1s 17ms/step - loss: 0.5657 - accuracy: 0.7818 - val_loss: 0.5063 - val_accuracy: 0.8254\n",
      "Epoch 75/10000\n",
      "33/33 [==============================] - ETA: 0s - loss: 0.6013 - accuracy: 0.7683\n",
      "Epoch 75: saving model to model/keypoint_classifier/keypoint_classifier.hdf5\n",
      "33/33 [==============================] - 1s 19ms/step - loss: 0.6013 - accuracy: 0.7683 - val_loss: 0.4871 - val_accuracy: 0.8203\n",
      "Epoch 76/10000\n",
      "32/33 [============================>.] - ETA: 0s - loss: 0.5840 - accuracy: 0.7815\n",
      "Epoch 76: saving model to model/keypoint_classifier/keypoint_classifier.hdf5\n",
      "33/33 [==============================] - 1s 19ms/step - loss: 0.5839 - accuracy: 0.7816 - val_loss: 0.5051 - val_accuracy: 0.8123\n",
      "Epoch 77/10000\n",
      "33/33 [==============================] - ETA: 0s - loss: 0.5772 - accuracy: 0.7782\n",
      "Epoch 77: saving model to model/keypoint_classifier/keypoint_classifier.hdf5\n",
      "33/33 [==============================] - 1s 18ms/step - loss: 0.5772 - accuracy: 0.7782 - val_loss: 0.5501 - val_accuracy: 0.7739\n",
      "Epoch 78/10000\n",
      "33/33 [==============================] - ETA: 0s - loss: 0.6102 - accuracy: 0.7671\n",
      "Epoch 78: saving model to model/keypoint_classifier/keypoint_classifier.hdf5\n",
      "33/33 [==============================] - 1s 18ms/step - loss: 0.6102 - accuracy: 0.7671 - val_loss: 0.4932 - val_accuracy: 0.8196\n",
      "Epoch 79/10000\n",
      "32/33 [============================>.] - ETA: 0s - loss: 0.5621 - accuracy: 0.7834\n",
      "Epoch 79: saving model to model/keypoint_classifier/keypoint_classifier.hdf5\n",
      "33/33 [==============================] - 1s 19ms/step - loss: 0.5607 - accuracy: 0.7842 - val_loss: 0.4616 - val_accuracy: 0.8181\n",
      "Epoch 80/10000\n",
      "31/33 [===========================>..] - ETA: 0s - loss: 0.5288 - accuracy: 0.7989\n",
      "Epoch 80: saving model to model/keypoint_classifier/keypoint_classifier.hdf5\n",
      "33/33 [==============================] - 1s 18ms/step - loss: 0.5292 - accuracy: 0.7987 - val_loss: 0.4673 - val_accuracy: 0.8203\n",
      "Epoch 81/10000\n",
      "33/33 [==============================] - ETA: 0s - loss: 0.5287 - accuracy: 0.8041\n",
      "Epoch 81: saving model to model/keypoint_classifier/keypoint_classifier.hdf5\n",
      "33/33 [==============================] - 1s 17ms/step - loss: 0.5287 - accuracy: 0.8041 - val_loss: 0.4496 - val_accuracy: 0.8471\n"
     ]
    },
    {
     "name": "stdout",
     "output_type": "stream",
     "text": [
      "Epoch 82/10000\n",
      "32/33 [============================>.] - ETA: 0s - loss: 0.5404 - accuracy: 0.8052\n",
      "Epoch 82: saving model to model/keypoint_classifier/keypoint_classifier.hdf5\n",
      "33/33 [==============================] - 1s 18ms/step - loss: 0.5440 - accuracy: 0.8041 - val_loss: 0.4544 - val_accuracy: 0.8442\n",
      "Epoch 83/10000\n",
      "33/33 [==============================] - ETA: 0s - loss: 0.5830 - accuracy: 0.7748\n",
      "Epoch 83: saving model to model/keypoint_classifier/keypoint_classifier.hdf5\n",
      "33/33 [==============================] - 1s 18ms/step - loss: 0.5830 - accuracy: 0.7748 - val_loss: 0.5122 - val_accuracy: 0.8022\n",
      "Epoch 84/10000\n",
      "33/33 [==============================] - ETA: 0s - loss: 0.5250 - accuracy: 0.8123\n",
      "Epoch 84: saving model to model/keypoint_classifier/keypoint_classifier.hdf5\n",
      "33/33 [==============================] - 1s 17ms/step - loss: 0.5250 - accuracy: 0.8123 - val_loss: 0.4443 - val_accuracy: 0.8174\n",
      "Epoch 85/10000\n",
      "33/33 [==============================] - ETA: 0s - loss: 0.5181 - accuracy: 0.8086\n",
      "Epoch 85: saving model to model/keypoint_classifier/keypoint_classifier.hdf5\n",
      "33/33 [==============================] - 1s 17ms/step - loss: 0.5181 - accuracy: 0.8086 - val_loss: 0.3822 - val_accuracy: 0.8746\n",
      "Epoch 86/10000\n",
      "32/33 [============================>.] - ETA: 0s - loss: 0.4653 - accuracy: 0.8306\n",
      "Epoch 86: saving model to model/keypoint_classifier/keypoint_classifier.hdf5\n",
      "33/33 [==============================] - 1s 17ms/step - loss: 0.4643 - accuracy: 0.8311 - val_loss: 0.3957 - val_accuracy: 0.8514\n",
      "Epoch 87/10000\n",
      "32/33 [============================>.] - ETA: 0s - loss: 0.4908 - accuracy: 0.8203\n",
      "Epoch 87: saving model to model/keypoint_classifier/keypoint_classifier.hdf5\n",
      "33/33 [==============================] - 1s 19ms/step - loss: 0.4930 - accuracy: 0.8198 - val_loss: 0.3688 - val_accuracy: 0.8775\n",
      "Epoch 88/10000\n",
      "33/33 [==============================] - ETA: 0s - loss: 0.4761 - accuracy: 0.8302\n",
      "Epoch 88: saving model to model/keypoint_classifier/keypoint_classifier.hdf5\n",
      "33/33 [==============================] - 1s 17ms/step - loss: 0.4761 - accuracy: 0.8302 - val_loss: 0.3715 - val_accuracy: 0.8688\n",
      "Epoch 89/10000\n",
      "32/33 [============================>.] - ETA: 0s - loss: 0.4481 - accuracy: 0.8423\n",
      "Epoch 89: saving model to model/keypoint_classifier/keypoint_classifier.hdf5\n",
      "33/33 [==============================] - 1s 18ms/step - loss: 0.4517 - accuracy: 0.8408 - val_loss: 0.3770 - val_accuracy: 0.8696\n",
      "Epoch 90/10000\n",
      "32/33 [============================>.] - ETA: 0s - loss: 0.4557 - accuracy: 0.8425\n",
      "Epoch 90: saving model to model/keypoint_classifier/keypoint_classifier.hdf5\n",
      "33/33 [==============================] - 1s 17ms/step - loss: 0.4555 - accuracy: 0.8430 - val_loss: 0.3543 - val_accuracy: 0.8826\n",
      "Epoch 91/10000\n",
      "33/33 [==============================] - ETA: 0s - loss: 0.4263 - accuracy: 0.8488\n",
      "Epoch 91: saving model to model/keypoint_classifier/keypoint_classifier.hdf5\n",
      "33/33 [==============================] - 1s 18ms/step - loss: 0.4263 - accuracy: 0.8488 - val_loss: 0.3866 - val_accuracy: 0.8616\n",
      "Epoch 92/10000\n",
      "33/33 [==============================] - ETA: 0s - loss: 0.4374 - accuracy: 0.8471\n",
      "Epoch 92: saving model to model/keypoint_classifier/keypoint_classifier.hdf5\n",
      "33/33 [==============================] - 1s 18ms/step - loss: 0.4374 - accuracy: 0.8471 - val_loss: 0.3524 - val_accuracy: 0.8739\n",
      "Epoch 93/10000\n",
      "30/33 [==========================>...] - ETA: 0s - loss: 0.4467 - accuracy: 0.8435\n",
      "Epoch 93: saving model to model/keypoint_classifier/keypoint_classifier.hdf5\n",
      "33/33 [==============================] - 1s 21ms/step - loss: 0.4471 - accuracy: 0.8432 - val_loss: 0.3544 - val_accuracy: 0.8761\n",
      "Epoch 94/10000\n",
      "33/33 [==============================] - ETA: 0s - loss: 0.4312 - accuracy: 0.8500\n",
      "Epoch 94: saving model to model/keypoint_classifier/keypoint_classifier.hdf5\n",
      "33/33 [==============================] - 1s 17ms/step - loss: 0.4312 - accuracy: 0.8500 - val_loss: 0.3408 - val_accuracy: 0.8841\n",
      "Epoch 95/10000\n",
      "32/33 [============================>.] - ETA: 0s - loss: 0.4126 - accuracy: 0.8547\n",
      "Epoch 95: saving model to model/keypoint_classifier/keypoint_classifier.hdf5\n",
      "33/33 [==============================] - 1s 20ms/step - loss: 0.4114 - accuracy: 0.8558 - val_loss: 0.3260 - val_accuracy: 0.8906\n",
      "Epoch 96/10000\n",
      "33/33 [==============================] - ETA: 0s - loss: 0.4319 - accuracy: 0.8512\n",
      "Epoch 96: saving model to model/keypoint_classifier/keypoint_classifier.hdf5\n",
      "33/33 [==============================] - 1s 18ms/step - loss: 0.4319 - accuracy: 0.8512 - val_loss: 0.3607 - val_accuracy: 0.8630\n",
      "Epoch 97/10000\n",
      "32/33 [============================>.] - ETA: 0s - loss: 0.4124 - accuracy: 0.8599\n",
      "Epoch 97: saving model to model/keypoint_classifier/keypoint_classifier.hdf5\n",
      "33/33 [==============================] - 1s 19ms/step - loss: 0.4128 - accuracy: 0.8599 - val_loss: 0.3097 - val_accuracy: 0.8957\n",
      "Epoch 98/10000\n",
      "32/33 [============================>.] - ETA: 0s - loss: 0.4083 - accuracy: 0.8660\n",
      "Epoch 98: saving model to model/keypoint_classifier/keypoint_classifier.hdf5\n",
      "33/33 [==============================] - 1s 17ms/step - loss: 0.4086 - accuracy: 0.8657 - val_loss: 0.3255 - val_accuracy: 0.8906\n",
      "Epoch 99/10000\n",
      "33/33 [==============================] - ETA: 0s - loss: 0.4040 - accuracy: 0.8637\n",
      "Epoch 99: saving model to model/keypoint_classifier/keypoint_classifier.hdf5\n",
      "33/33 [==============================] - 1s 17ms/step - loss: 0.4040 - accuracy: 0.8637 - val_loss: 0.3122 - val_accuracy: 0.9007\n",
      "Epoch 100/10000\n",
      "33/33 [==============================] - ETA: 0s - loss: 0.3941 - accuracy: 0.8751\n",
      "Epoch 100: saving model to model/keypoint_classifier/keypoint_classifier.hdf5\n",
      "33/33 [==============================] - 1s 17ms/step - loss: 0.3941 - accuracy: 0.8751 - val_loss: 0.3730 - val_accuracy: 0.8674\n",
      "Epoch 101/10000\n",
      "33/33 [==============================] - ETA: 0s - loss: 0.3955 - accuracy: 0.8657\n",
      "Epoch 101: saving model to model/keypoint_classifier/keypoint_classifier.hdf5\n",
      "33/33 [==============================] - 1s 17ms/step - loss: 0.3955 - accuracy: 0.8657 - val_loss: 0.3254 - val_accuracy: 0.8819\n",
      "Epoch 102/10000\n",
      "33/33 [==============================] - ETA: 0s - loss: 0.3911 - accuracy: 0.8794\n",
      "Epoch 102: saving model to model/keypoint_classifier/keypoint_classifier.hdf5\n",
      "33/33 [==============================] - 1s 17ms/step - loss: 0.3911 - accuracy: 0.8794 - val_loss: 0.3264 - val_accuracy: 0.8899\n",
      "Epoch 103/10000\n",
      "33/33 [==============================] - ETA: 0s - loss: 0.4398 - accuracy: 0.8524\n",
      "Epoch 103: saving model to model/keypoint_classifier/keypoint_classifier.hdf5\n",
      "33/33 [==============================] - 1s 17ms/step - loss: 0.4398 - accuracy: 0.8524 - val_loss: 0.3271 - val_accuracy: 0.8826\n",
      "Epoch 104/10000\n",
      "32/33 [============================>.] - ETA: 0s - loss: 0.3991 - accuracy: 0.8667\n",
      "Epoch 104: saving model to model/keypoint_classifier/keypoint_classifier.hdf5\n",
      "33/33 [==============================] - 1s 17ms/step - loss: 0.3979 - accuracy: 0.8671 - val_loss: 0.2839 - val_accuracy: 0.9065\n",
      "Epoch 105/10000\n",
      "31/33 [===========================>..] - ETA: 0s - loss: 0.3627 - accuracy: 0.8858\n",
      "Epoch 105: saving model to model/keypoint_classifier/keypoint_classifier.hdf5\n",
      "33/33 [==============================] - 1s 18ms/step - loss: 0.3669 - accuracy: 0.8855 - val_loss: 0.3081 - val_accuracy: 0.8971\n",
      "Epoch 106/10000\n",
      "33/33 [==============================] - ETA: 0s - loss: 0.3698 - accuracy: 0.8753\n",
      "Epoch 106: saving model to model/keypoint_classifier/keypoint_classifier.hdf5\n",
      "33/33 [==============================] - 1s 18ms/step - loss: 0.3698 - accuracy: 0.8753 - val_loss: 0.2985 - val_accuracy: 0.8964\n",
      "Epoch 107/10000\n",
      "33/33 [==============================] - ETA: 0s - loss: 0.3489 - accuracy: 0.8944\n",
      "Epoch 107: saving model to model/keypoint_classifier/keypoint_classifier.hdf5\n",
      "33/33 [==============================] - 1s 17ms/step - loss: 0.3489 - accuracy: 0.8944 - val_loss: 0.2751 - val_accuracy: 0.9080\n",
      "Epoch 108/10000\n",
      "33/33 [==============================] - ETA: 0s - loss: 0.3333 - accuracy: 0.8966\n",
      "Epoch 108: saving model to model/keypoint_classifier/keypoint_classifier.hdf5\n",
      "33/33 [==============================] - 1s 17ms/step - loss: 0.3333 - accuracy: 0.8966 - val_loss: 0.2519 - val_accuracy: 0.9116\n"
     ]
    },
    {
     "name": "stdout",
     "output_type": "stream",
     "text": [
      "Epoch 109/10000\n",
      "33/33 [==============================] - ETA: 0s - loss: 0.3577 - accuracy: 0.8872\n",
      "Epoch 109: saving model to model/keypoint_classifier/keypoint_classifier.hdf5\n",
      "33/33 [==============================] - 1s 17ms/step - loss: 0.3577 - accuracy: 0.8872 - val_loss: 0.2915 - val_accuracy: 0.9051\n",
      "Epoch 110/10000\n",
      "29/33 [=========================>....] - ETA: 0s - loss: 0.3516 - accuracy: 0.8847\n",
      "Epoch 110: saving model to model/keypoint_classifier/keypoint_classifier.hdf5\n",
      "33/33 [==============================] - 1s 16ms/step - loss: 0.3442 - accuracy: 0.8877 - val_loss: 0.2420 - val_accuracy: 0.9210\n",
      "Epoch 111/10000\n",
      "33/33 [==============================] - ETA: 0s - loss: 0.3236 - accuracy: 0.9026\n",
      "Epoch 111: saving model to model/keypoint_classifier/keypoint_classifier.hdf5\n",
      "33/33 [==============================] - 1s 18ms/step - loss: 0.3236 - accuracy: 0.9026 - val_loss: 0.2492 - val_accuracy: 0.9203\n",
      "Epoch 112/10000\n",
      "33/33 [==============================] - ETA: 0s - loss: 0.3327 - accuracy: 0.8973\n",
      "Epoch 112: saving model to model/keypoint_classifier/keypoint_classifier.hdf5\n",
      "33/33 [==============================] - 1s 17ms/step - loss: 0.3327 - accuracy: 0.8973 - val_loss: 0.2664 - val_accuracy: 0.9036\n",
      "Epoch 113/10000\n",
      "33/33 [==============================] - ETA: 0s - loss: 0.3154 - accuracy: 0.9024\n",
      "Epoch 113: saving model to model/keypoint_classifier/keypoint_classifier.hdf5\n",
      "33/33 [==============================] - 1s 17ms/step - loss: 0.3154 - accuracy: 0.9024 - val_loss: 0.3011 - val_accuracy: 0.8964\n",
      "Epoch 114/10000\n",
      "33/33 [==============================] - ETA: 0s - loss: 0.3081 - accuracy: 0.9050\n",
      "Epoch 114: saving model to model/keypoint_classifier/keypoint_classifier.hdf5\n",
      "33/33 [==============================] - 1s 17ms/step - loss: 0.3081 - accuracy: 0.9050 - val_loss: 0.2433 - val_accuracy: 0.9261\n",
      "Epoch 115/10000\n",
      "33/33 [==============================] - ETA: 0s - loss: 0.3182 - accuracy: 0.8968\n",
      "Epoch 115: saving model to model/keypoint_classifier/keypoint_classifier.hdf5\n",
      "33/33 [==============================] - 1s 17ms/step - loss: 0.3182 - accuracy: 0.8968 - val_loss: 0.2508 - val_accuracy: 0.9145\n",
      "Epoch 116/10000\n",
      "29/33 [=========================>....] - ETA: 0s - loss: 0.3227 - accuracy: 0.9011\n",
      "Epoch 116: saving model to model/keypoint_classifier/keypoint_classifier.hdf5\n",
      "33/33 [==============================] - 1s 17ms/step - loss: 0.3209 - accuracy: 0.9012 - val_loss: 0.2838 - val_accuracy: 0.9065\n",
      "Epoch 117/10000\n",
      "33/33 [==============================] - ETA: 0s - loss: 0.3294 - accuracy: 0.8964\n",
      "Epoch 117: saving model to model/keypoint_classifier/keypoint_classifier.hdf5\n",
      "33/33 [==============================] - 1s 17ms/step - loss: 0.3294 - accuracy: 0.8964 - val_loss: 0.2492 - val_accuracy: 0.9116\n",
      "Epoch 118/10000\n",
      "33/33 [==============================] - ETA: 0s - loss: 0.3101 - accuracy: 0.9019\n",
      "Epoch 118: saving model to model/keypoint_classifier/keypoint_classifier.hdf5\n",
      "33/33 [==============================] - 1s 18ms/step - loss: 0.3101 - accuracy: 0.9019 - val_loss: 0.2521 - val_accuracy: 0.9145\n",
      "Epoch 119/10000\n",
      "33/33 [==============================] - ETA: 0s - loss: 0.3134 - accuracy: 0.9014\n",
      "Epoch 119: saving model to model/keypoint_classifier/keypoint_classifier.hdf5\n",
      "33/33 [==============================] - 1s 17ms/step - loss: 0.3134 - accuracy: 0.9014 - val_loss: 0.2830 - val_accuracy: 0.9000\n",
      "Epoch 120/10000\n",
      "31/33 [===========================>..] - ETA: 0s - loss: 0.3201 - accuracy: 0.9020\n",
      "Epoch 120: saving model to model/keypoint_classifier/keypoint_classifier.hdf5\n",
      "33/33 [==============================] - 1s 19ms/step - loss: 0.3166 - accuracy: 0.9034 - val_loss: 0.2123 - val_accuracy: 0.9275\n",
      "Epoch 121/10000\n",
      "31/33 [===========================>..] - ETA: 0s - loss: 0.2758 - accuracy: 0.9171\n",
      "Epoch 121: saving model to model/keypoint_classifier/keypoint_classifier.hdf5\n",
      "33/33 [==============================] - 1s 18ms/step - loss: 0.2765 - accuracy: 0.9162 - val_loss: 0.2253 - val_accuracy: 0.9290\n",
      "Epoch 122/10000\n",
      "33/33 [==============================] - ETA: 0s - loss: 0.2856 - accuracy: 0.9094\n",
      "Epoch 122: saving model to model/keypoint_classifier/keypoint_classifier.hdf5\n",
      "33/33 [==============================] - 1s 18ms/step - loss: 0.2856 - accuracy: 0.9094 - val_loss: 0.2077 - val_accuracy: 0.9297\n",
      "Epoch 123/10000\n",
      "33/33 [==============================] - ETA: 0s - loss: 0.2801 - accuracy: 0.9169\n",
      "Epoch 123: saving model to model/keypoint_classifier/keypoint_classifier.hdf5\n",
      "33/33 [==============================] - 1s 17ms/step - loss: 0.2801 - accuracy: 0.9169 - val_loss: 0.2055 - val_accuracy: 0.9355\n",
      "Epoch 124/10000\n",
      "32/33 [============================>.] - ETA: 0s - loss: 0.2685 - accuracy: 0.9148\n",
      "Epoch 124: saving model to model/keypoint_classifier/keypoint_classifier.hdf5\n",
      "33/33 [==============================] - 1s 17ms/step - loss: 0.2700 - accuracy: 0.9150 - val_loss: 0.1842 - val_accuracy: 0.9384\n",
      "Epoch 125/10000\n",
      "32/33 [============================>.] - ETA: 0s - loss: 0.2534 - accuracy: 0.9204\n",
      "Epoch 125: saving model to model/keypoint_classifier/keypoint_classifier.hdf5\n",
      "33/33 [==============================] - 1s 18ms/step - loss: 0.2539 - accuracy: 0.9200 - val_loss: 0.1857 - val_accuracy: 0.9355\n",
      "Epoch 126/10000\n",
      "31/33 [===========================>..] - ETA: 0s - loss: 0.2551 - accuracy: 0.9221\n",
      "Epoch 126: saving model to model/keypoint_classifier/keypoint_classifier.hdf5\n",
      "33/33 [==============================] - 1s 19ms/step - loss: 0.2555 - accuracy: 0.9229 - val_loss: 0.1846 - val_accuracy: 0.9391\n",
      "Epoch 127/10000\n",
      "30/33 [==========================>...] - ETA: 0s - loss: 0.2545 - accuracy: 0.9221\n",
      "Epoch 127: saving model to model/keypoint_classifier/keypoint_classifier.hdf5\n",
      "33/33 [==============================] - 1s 19ms/step - loss: 0.2519 - accuracy: 0.9224 - val_loss: 0.1884 - val_accuracy: 0.9464\n",
      "Epoch 128/10000\n",
      "30/33 [==========================>...] - ETA: 0s - loss: 0.2619 - accuracy: 0.9214\n",
      "Epoch 128: saving model to model/keypoint_classifier/keypoint_classifier.hdf5\n",
      "33/33 [==============================] - 1s 20ms/step - loss: 0.2549 - accuracy: 0.9239 - val_loss: 0.1828 - val_accuracy: 0.9442\n",
      "Epoch 129/10000\n",
      "31/33 [===========================>..] - ETA: 0s - loss: 0.2582 - accuracy: 0.9204\n",
      "Epoch 129: saving model to model/keypoint_classifier/keypoint_classifier.hdf5\n",
      "33/33 [==============================] - 1s 18ms/step - loss: 0.2589 - accuracy: 0.9208 - val_loss: 0.1835 - val_accuracy: 0.9420\n",
      "Epoch 130/10000\n",
      "33/33 [==============================] - ETA: 0s - loss: 0.2517 - accuracy: 0.9203\n",
      "Epoch 130: saving model to model/keypoint_classifier/keypoint_classifier.hdf5\n",
      "33/33 [==============================] - 1s 19ms/step - loss: 0.2517 - accuracy: 0.9203 - val_loss: 0.2051 - val_accuracy: 0.9312\n",
      "Epoch 131/10000\n",
      "31/33 [===========================>..] - ETA: 0s - loss: 0.2433 - accuracy: 0.9254\n",
      "Epoch 131: saving model to model/keypoint_classifier/keypoint_classifier.hdf5\n",
      "33/33 [==============================] - 1s 18ms/step - loss: 0.2428 - accuracy: 0.9261 - val_loss: 0.2220 - val_accuracy: 0.9203\n",
      "Epoch 132/10000\n",
      "33/33 [==============================] - ETA: 0s - loss: 0.2399 - accuracy: 0.9261\n",
      "Epoch 132: saving model to model/keypoint_classifier/keypoint_classifier.hdf5\n",
      "33/33 [==============================] - 1s 18ms/step - loss: 0.2399 - accuracy: 0.9261 - val_loss: 0.1683 - val_accuracy: 0.9428\n",
      "Epoch 133/10000\n",
      "30/33 [==========================>...] - ETA: 0s - loss: 0.2425 - accuracy: 0.9258\n",
      "Epoch 133: saving model to model/keypoint_classifier/keypoint_classifier.hdf5\n",
      "33/33 [==============================] - 1s 18ms/step - loss: 0.2451 - accuracy: 0.9246 - val_loss: 0.1763 - val_accuracy: 0.9471\n",
      "Epoch 134/10000\n",
      "33/33 [==============================] - ETA: 0s - loss: 0.2410 - accuracy: 0.9275\n",
      "Epoch 134: saving model to model/keypoint_classifier/keypoint_classifier.hdf5\n",
      "33/33 [==============================] - 1s 18ms/step - loss: 0.2410 - accuracy: 0.9275 - val_loss: 0.1652 - val_accuracy: 0.9435\n",
      "Epoch 135/10000\n",
      "32/33 [============================>.] - ETA: 0s - loss: 0.2341 - accuracy: 0.9229\n",
      "Epoch 135: saving model to model/keypoint_classifier/keypoint_classifier.hdf5\n",
      "33/33 [==============================] - 1s 18ms/step - loss: 0.2347 - accuracy: 0.9224 - val_loss: 0.1595 - val_accuracy: 0.9522\n"
     ]
    },
    {
     "name": "stdout",
     "output_type": "stream",
     "text": [
      "Epoch 136/10000\n",
      "33/33 [==============================] - ETA: 0s - loss: 0.2246 - accuracy: 0.9292\n",
      "Epoch 136: saving model to model/keypoint_classifier/keypoint_classifier.hdf5\n",
      "33/33 [==============================] - 1s 17ms/step - loss: 0.2246 - accuracy: 0.9292 - val_loss: 0.2363 - val_accuracy: 0.9254\n",
      "Epoch 137/10000\n",
      "32/33 [============================>.] - ETA: 0s - loss: 0.2518 - accuracy: 0.9204\n",
      "Epoch 137: saving model to model/keypoint_classifier/keypoint_classifier.hdf5\n",
      "33/33 [==============================] - 1s 18ms/step - loss: 0.2525 - accuracy: 0.9205 - val_loss: 0.1612 - val_accuracy: 0.9478\n",
      "Epoch 138/10000\n",
      "31/33 [===========================>..] - ETA: 0s - loss: 0.2339 - accuracy: 0.9309\n",
      "Epoch 138: saving model to model/keypoint_classifier/keypoint_classifier.hdf5\n",
      "33/33 [==============================] - 1s 18ms/step - loss: 0.2326 - accuracy: 0.9309 - val_loss: 0.2057 - val_accuracy: 0.9290\n",
      "Epoch 139/10000\n",
      "33/33 [==============================] - ETA: 0s - loss: 0.2309 - accuracy: 0.9295\n",
      "Epoch 139: saving model to model/keypoint_classifier/keypoint_classifier.hdf5\n",
      "33/33 [==============================] - 1s 17ms/step - loss: 0.2309 - accuracy: 0.9295 - val_loss: 0.1510 - val_accuracy: 0.9514\n",
      "Epoch 140/10000\n",
      "33/33 [==============================] - ETA: 0s - loss: 0.2119 - accuracy: 0.9369\n",
      "Epoch 140: saving model to model/keypoint_classifier/keypoint_classifier.hdf5\n",
      "33/33 [==============================] - 1s 18ms/step - loss: 0.2119 - accuracy: 0.9369 - val_loss: 0.1818 - val_accuracy: 0.9362\n",
      "Epoch 141/10000\n",
      "30/33 [==========================>...] - ETA: 0s - loss: 0.2423 - accuracy: 0.9258\n",
      "Epoch 141: saving model to model/keypoint_classifier/keypoint_classifier.hdf5\n",
      "33/33 [==============================] - 1s 19ms/step - loss: 0.2398 - accuracy: 0.9270 - val_loss: 0.2413 - val_accuracy: 0.9203\n",
      "Epoch 142/10000\n",
      "32/33 [============================>.] - ETA: 0s - loss: 0.2487 - accuracy: 0.9250\n",
      "Epoch 142: saving model to model/keypoint_classifier/keypoint_classifier.hdf5\n",
      "33/33 [==============================] - 1s 18ms/step - loss: 0.2490 - accuracy: 0.9251 - val_loss: 0.1703 - val_accuracy: 0.9442\n",
      "Epoch 143/10000\n",
      "33/33 [==============================] - ETA: 0s - loss: 0.2339 - accuracy: 0.9246\n",
      "Epoch 143: saving model to model/keypoint_classifier/keypoint_classifier.hdf5\n",
      "33/33 [==============================] - 1s 18ms/step - loss: 0.2339 - accuracy: 0.9246 - val_loss: 0.1492 - val_accuracy: 0.9507\n",
      "Epoch 144/10000\n",
      "32/33 [============================>.] - ETA: 0s - loss: 0.2205 - accuracy: 0.9319\n",
      "Epoch 144: saving model to model/keypoint_classifier/keypoint_classifier.hdf5\n",
      "33/33 [==============================] - 1s 17ms/step - loss: 0.2199 - accuracy: 0.9324 - val_loss: 0.1968 - val_accuracy: 0.9377\n",
      "Epoch 145/10000\n",
      "31/33 [===========================>..] - ETA: 0s - loss: 0.2248 - accuracy: 0.9292\n",
      "Epoch 145: saving model to model/keypoint_classifier/keypoint_classifier.hdf5\n",
      "33/33 [==============================] - 1s 19ms/step - loss: 0.2237 - accuracy: 0.9299 - val_loss: 0.1560 - val_accuracy: 0.9529\n",
      "Epoch 146/10000\n",
      "33/33 [==============================] - ETA: 0s - loss: 0.2286 - accuracy: 0.9297\n",
      "Epoch 146: saving model to model/keypoint_classifier/keypoint_classifier.hdf5\n",
      "33/33 [==============================] - 1s 18ms/step - loss: 0.2286 - accuracy: 0.9297 - val_loss: 0.2070 - val_accuracy: 0.9312\n",
      "Epoch 147/10000\n",
      "31/33 [===========================>..] - ETA: 0s - loss: 0.2558 - accuracy: 0.9196\n",
      "Epoch 147: saving model to model/keypoint_classifier/keypoint_classifier.hdf5\n",
      "33/33 [==============================] - 1s 18ms/step - loss: 0.2526 - accuracy: 0.9208 - val_loss: 0.1669 - val_accuracy: 0.9457\n",
      "Epoch 148/10000\n",
      "32/33 [============================>.] - ETA: 0s - loss: 0.2262 - accuracy: 0.9331\n",
      "Epoch 148: saving model to model/keypoint_classifier/keypoint_classifier.hdf5\n",
      "33/33 [==============================] - 1s 19ms/step - loss: 0.2247 - accuracy: 0.9336 - val_loss: 0.1656 - val_accuracy: 0.9507\n",
      "Epoch 149/10000\n",
      "31/33 [===========================>..] - ETA: 0s - loss: 0.2012 - accuracy: 0.9390\n",
      "Epoch 149: saving model to model/keypoint_classifier/keypoint_classifier.hdf5\n",
      "33/33 [==============================] - 1s 19ms/step - loss: 0.2025 - accuracy: 0.9384 - val_loss: 0.1484 - val_accuracy: 0.9529\n",
      "Epoch 150/10000\n",
      "33/33 [==============================] - ETA: 0s - loss: 0.2112 - accuracy: 0.9360\n",
      "Epoch 150: saving model to model/keypoint_classifier/keypoint_classifier.hdf5\n",
      "33/33 [==============================] - 1s 18ms/step - loss: 0.2112 - accuracy: 0.9360 - val_loss: 0.2033 - val_accuracy: 0.9362\n",
      "Epoch 151/10000\n",
      "30/33 [==========================>...] - ETA: 0s - loss: 0.2135 - accuracy: 0.9365\n",
      "Epoch 151: saving model to model/keypoint_classifier/keypoint_classifier.hdf5\n",
      "33/33 [==============================] - 1s 19ms/step - loss: 0.2159 - accuracy: 0.9360 - val_loss: 0.1814 - val_accuracy: 0.9370\n",
      "Epoch 152/10000\n",
      "33/33 [==============================] - ETA: 0s - loss: 0.2206 - accuracy: 0.9304\n",
      "Epoch 152: saving model to model/keypoint_classifier/keypoint_classifier.hdf5\n",
      "33/33 [==============================] - 1s 18ms/step - loss: 0.2206 - accuracy: 0.9304 - val_loss: 0.1755 - val_accuracy: 0.9457\n",
      "Epoch 153/10000\n",
      "33/33 [==============================] - ETA: 0s - loss: 0.2014 - accuracy: 0.9391\n",
      "Epoch 153: saving model to model/keypoint_classifier/keypoint_classifier.hdf5\n",
      "33/33 [==============================] - 1s 18ms/step - loss: 0.2014 - accuracy: 0.9391 - val_loss: 0.1369 - val_accuracy: 0.9580\n",
      "Epoch 154/10000\n",
      "31/33 [===========================>..] - ETA: 0s - loss: 0.2096 - accuracy: 0.9408\n",
      "Epoch 154: saving model to model/keypoint_classifier/keypoint_classifier.hdf5\n",
      "33/33 [==============================] - 1s 19ms/step - loss: 0.2086 - accuracy: 0.9415 - val_loss: 0.1754 - val_accuracy: 0.9420\n",
      "Epoch 155/10000\n",
      "30/33 [==========================>...] - ETA: 0s - loss: 0.2022 - accuracy: 0.9430\n",
      "Epoch 155: saving model to model/keypoint_classifier/keypoint_classifier.hdf5\n",
      "33/33 [==============================] - 1s 19ms/step - loss: 0.2019 - accuracy: 0.9427 - val_loss: 0.1337 - val_accuracy: 0.9587\n",
      "Epoch 156/10000\n",
      "33/33 [==============================] - ETA: 0s - loss: 0.2074 - accuracy: 0.9398\n",
      "Epoch 156: saving model to model/keypoint_classifier/keypoint_classifier.hdf5\n",
      "33/33 [==============================] - 1s 18ms/step - loss: 0.2074 - accuracy: 0.9398 - val_loss: 0.1617 - val_accuracy: 0.9478\n",
      "Epoch 157/10000\n",
      "31/33 [===========================>..] - ETA: 0s - loss: 0.1838 - accuracy: 0.9456\n",
      "Epoch 157: saving model to model/keypoint_classifier/keypoint_classifier.hdf5\n",
      "33/33 [==============================] - 1s 19ms/step - loss: 0.1885 - accuracy: 0.9432 - val_loss: 0.1507 - val_accuracy: 0.9529\n",
      "Epoch 158/10000\n",
      "31/33 [===========================>..] - ETA: 0s - loss: 0.1989 - accuracy: 0.9420\n",
      "Epoch 158: saving model to model/keypoint_classifier/keypoint_classifier.hdf5\n",
      "33/33 [==============================] - 1s 19ms/step - loss: 0.1983 - accuracy: 0.9425 - val_loss: 0.1350 - val_accuracy: 0.9580\n",
      "Epoch 159/10000\n",
      "33/33 [==============================] - ETA: 0s - loss: 0.1936 - accuracy: 0.9425\n",
      "Epoch 159: saving model to model/keypoint_classifier/keypoint_classifier.hdf5\n",
      "33/33 [==============================] - 1s 21ms/step - loss: 0.1936 - accuracy: 0.9425 - val_loss: 0.1489 - val_accuracy: 0.9536\n",
      "Epoch 160/10000\n",
      "33/33 [==============================] - ETA: 0s - loss: 0.1941 - accuracy: 0.9415\n",
      "Epoch 160: saving model to model/keypoint_classifier/keypoint_classifier.hdf5\n",
      "33/33 [==============================] - 1s 18ms/step - loss: 0.1941 - accuracy: 0.9415 - val_loss: 0.1427 - val_accuracy: 0.9529\n",
      "Epoch 161/10000\n",
      "31/33 [===========================>..] - ETA: 0s - loss: 0.1869 - accuracy: 0.9425\n",
      "Epoch 161: saving model to model/keypoint_classifier/keypoint_classifier.hdf5\n",
      "33/33 [==============================] - 1s 18ms/step - loss: 0.1878 - accuracy: 0.9423 - val_loss: 0.1522 - val_accuracy: 0.9529\n",
      "Epoch 162/10000\n",
      "33/33 [==============================] - ETA: 0s - loss: 0.1869 - accuracy: 0.9447\n",
      "Epoch 162: saving model to model/keypoint_classifier/keypoint_classifier.hdf5\n",
      "33/33 [==============================] - 1s 17ms/step - loss: 0.1869 - accuracy: 0.9447 - val_loss: 0.1303 - val_accuracy: 0.9587\n"
     ]
    },
    {
     "name": "stdout",
     "output_type": "stream",
     "text": [
      "Epoch 163/10000\n",
      "33/33 [==============================] - ETA: 0s - loss: 0.1780 - accuracy: 0.9454\n",
      "Epoch 163: saving model to model/keypoint_classifier/keypoint_classifier.hdf5\n",
      "33/33 [==============================] - 1s 18ms/step - loss: 0.1780 - accuracy: 0.9454 - val_loss: 0.1455 - val_accuracy: 0.9536\n",
      "Epoch 164/10000\n",
      "30/33 [==========================>...] - ETA: 0s - loss: 0.1781 - accuracy: 0.9497\n",
      "Epoch 164: saving model to model/keypoint_classifier/keypoint_classifier.hdf5\n",
      "33/33 [==============================] - 1s 18ms/step - loss: 0.1837 - accuracy: 0.9481 - val_loss: 0.1374 - val_accuracy: 0.9572\n",
      "Epoch 165/10000\n",
      "33/33 [==============================] - ETA: 0s - loss: 0.1715 - accuracy: 0.9507\n",
      "Epoch 165: saving model to model/keypoint_classifier/keypoint_classifier.hdf5\n",
      "33/33 [==============================] - 1s 18ms/step - loss: 0.1715 - accuracy: 0.9507 - val_loss: 0.1395 - val_accuracy: 0.9536\n",
      "Epoch 166/10000\n",
      "32/33 [============================>.] - ETA: 0s - loss: 0.2119 - accuracy: 0.9329\n",
      "Epoch 166: saving model to model/keypoint_classifier/keypoint_classifier.hdf5\n",
      "33/33 [==============================] - 1s 18ms/step - loss: 0.2124 - accuracy: 0.9321 - val_loss: 0.1376 - val_accuracy: 0.9543\n",
      "Epoch 167/10000\n",
      "33/33 [==============================] - ETA: 0s - loss: 0.1925 - accuracy: 0.9456\n",
      "Epoch 167: saving model to model/keypoint_classifier/keypoint_classifier.hdf5\n",
      "33/33 [==============================] - 1s 18ms/step - loss: 0.1925 - accuracy: 0.9456 - val_loss: 0.1993 - val_accuracy: 0.9384\n",
      "Epoch 168/10000\n",
      "30/33 [==========================>...] - ETA: 0s - loss: 0.2131 - accuracy: 0.9354\n",
      "Epoch 168: saving model to model/keypoint_classifier/keypoint_classifier.hdf5\n",
      "33/33 [==============================] - 1s 19ms/step - loss: 0.2073 - accuracy: 0.9367 - val_loss: 0.1436 - val_accuracy: 0.9507\n",
      "Epoch 169/10000\n",
      "33/33 [==============================] - ETA: 0s - loss: 0.2079 - accuracy: 0.9374\n",
      "Epoch 169: saving model to model/keypoint_classifier/keypoint_classifier.hdf5\n",
      "33/33 [==============================] - 1s 18ms/step - loss: 0.2079 - accuracy: 0.9374 - val_loss: 0.1592 - val_accuracy: 0.9478\n",
      "Epoch 170/10000\n",
      "32/33 [============================>.] - ETA: 0s - loss: 0.2436 - accuracy: 0.9246\n",
      "Epoch 170: saving model to model/keypoint_classifier/keypoint_classifier.hdf5\n",
      "33/33 [==============================] - 1s 19ms/step - loss: 0.2430 - accuracy: 0.9251 - val_loss: 0.1267 - val_accuracy: 0.9580\n",
      "Epoch 171/10000\n",
      "32/33 [============================>.] - ETA: 0s - loss: 0.1852 - accuracy: 0.9465\n",
      "Epoch 171: saving model to model/keypoint_classifier/keypoint_classifier.hdf5\n",
      "33/33 [==============================] - 1s 18ms/step - loss: 0.1845 - accuracy: 0.9468 - val_loss: 0.1399 - val_accuracy: 0.9565\n",
      "Epoch 172/10000\n",
      "33/33 [==============================] - ETA: 0s - loss: 0.1767 - accuracy: 0.9471\n",
      "Epoch 172: saving model to model/keypoint_classifier/keypoint_classifier.hdf5\n",
      "33/33 [==============================] - 1s 19ms/step - loss: 0.1767 - accuracy: 0.9471 - val_loss: 0.1252 - val_accuracy: 0.9609\n",
      "Epoch 173/10000\n",
      "32/33 [============================>.] - ETA: 0s - loss: 0.1633 - accuracy: 0.9521\n",
      "Epoch 173: saving model to model/keypoint_classifier/keypoint_classifier.hdf5\n",
      "33/33 [==============================] - 1s 17ms/step - loss: 0.1658 - accuracy: 0.9512 - val_loss: 0.1384 - val_accuracy: 0.9623\n",
      "Epoch 174/10000\n",
      "31/33 [===========================>..] - ETA: 0s - loss: 0.1731 - accuracy: 0.9473\n",
      "Epoch 174: saving model to model/keypoint_classifier/keypoint_classifier.hdf5\n",
      "33/33 [==============================] - 1s 19ms/step - loss: 0.1703 - accuracy: 0.9485 - val_loss: 0.1289 - val_accuracy: 0.9616\n",
      "Epoch 175/10000\n",
      "31/33 [===========================>..] - ETA: 0s - loss: 0.1862 - accuracy: 0.9451\n",
      "Epoch 175: saving model to model/keypoint_classifier/keypoint_classifier.hdf5\n",
      "33/33 [==============================] - 1s 18ms/step - loss: 0.1866 - accuracy: 0.9449 - val_loss: 0.1604 - val_accuracy: 0.9406\n",
      "Epoch 176/10000\n",
      "31/33 [===========================>..] - ETA: 0s - loss: 0.1886 - accuracy: 0.9410\n",
      "Epoch 176: saving model to model/keypoint_classifier/keypoint_classifier.hdf5\n",
      "33/33 [==============================] - 1s 19ms/step - loss: 0.1892 - accuracy: 0.9413 - val_loss: 0.1549 - val_accuracy: 0.9500\n",
      "Epoch 177/10000\n",
      "32/33 [============================>.] - ETA: 0s - loss: 0.1752 - accuracy: 0.9478\n",
      "Epoch 177: saving model to model/keypoint_classifier/keypoint_classifier.hdf5\n",
      "33/33 [==============================] - 1s 17ms/step - loss: 0.1749 - accuracy: 0.9476 - val_loss: 0.1220 - val_accuracy: 0.9638\n",
      "Epoch 178/10000\n",
      "33/33 [==============================] - ETA: 0s - loss: 0.1713 - accuracy: 0.9534\n",
      "Epoch 178: saving model to model/keypoint_classifier/keypoint_classifier.hdf5\n",
      "33/33 [==============================] - 1s 19ms/step - loss: 0.1713 - accuracy: 0.9534 - val_loss: 0.1563 - val_accuracy: 0.9514\n",
      "Epoch 179/10000\n",
      "32/33 [============================>.] - ETA: 0s - loss: 0.1622 - accuracy: 0.9443\n",
      "Epoch 179: saving model to model/keypoint_classifier/keypoint_classifier.hdf5\n",
      "33/33 [==============================] - 1s 19ms/step - loss: 0.1614 - accuracy: 0.9447 - val_loss: 0.1361 - val_accuracy: 0.9565\n",
      "Epoch 180/10000\n",
      "33/33 [==============================] - ETA: 0s - loss: 0.1695 - accuracy: 0.9500\n",
      "Epoch 180: saving model to model/keypoint_classifier/keypoint_classifier.hdf5\n",
      "33/33 [==============================] - 1s 18ms/step - loss: 0.1695 - accuracy: 0.9500 - val_loss: 0.1936 - val_accuracy: 0.9391\n",
      "Epoch 181/10000\n",
      "31/33 [===========================>..] - ETA: 0s - loss: 0.1863 - accuracy: 0.9420\n",
      "Epoch 181: saving model to model/keypoint_classifier/keypoint_classifier.hdf5\n",
      "33/33 [==============================] - 1s 21ms/step - loss: 0.1854 - accuracy: 0.9427 - val_loss: 0.1294 - val_accuracy: 0.9580\n",
      "Epoch 182/10000\n",
      "30/33 [==========================>...] - ETA: 0s - loss: 0.1513 - accuracy: 0.9591\n",
      "Epoch 182: saving model to model/keypoint_classifier/keypoint_classifier.hdf5\n",
      "33/33 [==============================] - 1s 19ms/step - loss: 0.1516 - accuracy: 0.9584 - val_loss: 0.1336 - val_accuracy: 0.9587\n",
      "Epoch 183/10000\n",
      "32/33 [============================>.] - ETA: 0s - loss: 0.1564 - accuracy: 0.9524\n",
      "Epoch 183: saving model to model/keypoint_classifier/keypoint_classifier.hdf5\n",
      "33/33 [==============================] - 1s 21ms/step - loss: 0.1557 - accuracy: 0.9524 - val_loss: 0.1443 - val_accuracy: 0.9580\n",
      "Epoch 184/10000\n",
      "33/33 [==============================] - ETA: 0s - loss: 0.1682 - accuracy: 0.9510\n",
      "Epoch 184: saving model to model/keypoint_classifier/keypoint_classifier.hdf5\n",
      "33/33 [==============================] - 1s 19ms/step - loss: 0.1682 - accuracy: 0.9510 - val_loss: 0.1466 - val_accuracy: 0.9558\n",
      "Epoch 185/10000\n",
      "32/33 [============================>.] - ETA: 0s - loss: 0.1631 - accuracy: 0.9546\n",
      "Epoch 185: saving model to model/keypoint_classifier/keypoint_classifier.hdf5\n",
      "33/33 [==============================] - 1s 20ms/step - loss: 0.1626 - accuracy: 0.9546 - val_loss: 0.1536 - val_accuracy: 0.9529\n",
      "Epoch 186/10000\n",
      "32/33 [============================>.] - ETA: 0s - loss: 0.2096 - accuracy: 0.9346\n",
      "Epoch 186: saving model to model/keypoint_classifier/keypoint_classifier.hdf5\n",
      "33/33 [==============================] - 1s 22ms/step - loss: 0.2088 - accuracy: 0.9345 - val_loss: 0.1277 - val_accuracy: 0.9587\n",
      "Epoch 187/10000\n",
      "32/33 [============================>.] - ETA: 0s - loss: 0.1700 - accuracy: 0.9482\n",
      "Epoch 187: saving model to model/keypoint_classifier/keypoint_classifier.hdf5\n",
      "33/33 [==============================] - 1s 19ms/step - loss: 0.1697 - accuracy: 0.9483 - val_loss: 0.1330 - val_accuracy: 0.9551\n",
      "Epoch 188/10000\n",
      "30/33 [==========================>...] - ETA: 0s - loss: 0.1739 - accuracy: 0.9484\n",
      "Epoch 188: saving model to model/keypoint_classifier/keypoint_classifier.hdf5\n",
      "33/33 [==============================] - 1s 19ms/step - loss: 0.1731 - accuracy: 0.9488 - val_loss: 0.1742 - val_accuracy: 0.9406\n",
      "Epoch 189/10000\n",
      "33/33 [==============================] - ETA: 0s - loss: 0.1733 - accuracy: 0.9488\n",
      "Epoch 189: saving model to model/keypoint_classifier/keypoint_classifier.hdf5\n",
      "33/33 [==============================] - 1s 17ms/step - loss: 0.1733 - accuracy: 0.9488 - val_loss: 0.1417 - val_accuracy: 0.9572\n"
     ]
    },
    {
     "name": "stdout",
     "output_type": "stream",
     "text": [
      "Epoch 190/10000\n",
      "32/33 [============================>.] - ETA: 0s - loss: 0.1608 - accuracy: 0.9534\n",
      "Epoch 190: saving model to model/keypoint_classifier/keypoint_classifier.hdf5\n",
      "33/33 [==============================] - 1s 19ms/step - loss: 0.1594 - accuracy: 0.9539 - val_loss: 0.1063 - val_accuracy: 0.9645\n",
      "Epoch 191/10000\n",
      "32/33 [============================>.] - ETA: 0s - loss: 0.1630 - accuracy: 0.9521\n",
      "Epoch 191: saving model to model/keypoint_classifier/keypoint_classifier.hdf5\n",
      "33/33 [==============================] - 1s 18ms/step - loss: 0.1620 - accuracy: 0.9524 - val_loss: 0.1273 - val_accuracy: 0.9587\n",
      "Epoch 192/10000\n",
      "33/33 [==============================] - ETA: 0s - loss: 0.1553 - accuracy: 0.9539\n",
      "Epoch 192: saving model to model/keypoint_classifier/keypoint_classifier.hdf5\n",
      "33/33 [==============================] - 1s 17ms/step - loss: 0.1553 - accuracy: 0.9539 - val_loss: 0.1290 - val_accuracy: 0.9623\n",
      "Epoch 193/10000\n",
      "32/33 [============================>.] - ETA: 0s - loss: 0.1441 - accuracy: 0.9556\n",
      "Epoch 193: saving model to model/keypoint_classifier/keypoint_classifier.hdf5\n",
      "33/33 [==============================] - 1s 17ms/step - loss: 0.1461 - accuracy: 0.9553 - val_loss: 0.1394 - val_accuracy: 0.9594\n",
      "Epoch 194/10000\n",
      "31/33 [===========================>..] - ETA: 0s - loss: 0.1762 - accuracy: 0.9418\n",
      "Epoch 194: saving model to model/keypoint_classifier/keypoint_classifier.hdf5\n",
      "33/33 [==============================] - 1s 20ms/step - loss: 0.1730 - accuracy: 0.9427 - val_loss: 0.1281 - val_accuracy: 0.9594\n",
      "Epoch 195/10000\n",
      "32/33 [============================>.] - ETA: 0s - loss: 0.1666 - accuracy: 0.9509\n",
      "Epoch 195: saving model to model/keypoint_classifier/keypoint_classifier.hdf5\n",
      "33/33 [==============================] - 1s 18ms/step - loss: 0.1670 - accuracy: 0.9507 - val_loss: 0.1547 - val_accuracy: 0.9551\n",
      "Epoch 196/10000\n",
      "32/33 [============================>.] - ETA: 0s - loss: 0.1832 - accuracy: 0.9441\n",
      "Epoch 196: saving model to model/keypoint_classifier/keypoint_classifier.hdf5\n",
      "33/33 [==============================] - 1s 21ms/step - loss: 0.1819 - accuracy: 0.9447 - val_loss: 0.1249 - val_accuracy: 0.9630\n",
      "Epoch 197/10000\n",
      "33/33 [==============================] - ETA: 0s - loss: 0.1568 - accuracy: 0.9517\n",
      "Epoch 197: saving model to model/keypoint_classifier/keypoint_classifier.hdf5\n",
      "33/33 [==============================] - 1s 18ms/step - loss: 0.1568 - accuracy: 0.9517 - val_loss: 0.1242 - val_accuracy: 0.9623\n",
      "Epoch 198/10000\n",
      "33/33 [==============================] - ETA: 0s - loss: 0.1603 - accuracy: 0.9490\n",
      "Epoch 198: saving model to model/keypoint_classifier/keypoint_classifier.hdf5\n",
      "33/33 [==============================] - 1s 17ms/step - loss: 0.1603 - accuracy: 0.9490 - val_loss: 0.1537 - val_accuracy: 0.9500\n",
      "Epoch 199/10000\n",
      "32/33 [============================>.] - ETA: 0s - loss: 0.1491 - accuracy: 0.9546\n",
      "Epoch 199: saving model to model/keypoint_classifier/keypoint_classifier.hdf5\n",
      "33/33 [==============================] - 1s 18ms/step - loss: 0.1488 - accuracy: 0.9546 - val_loss: 0.1194 - val_accuracy: 0.9609\n",
      "Epoch 200/10000\n",
      "30/33 [==========================>...] - ETA: 0s - loss: 0.1474 - accuracy: 0.9583\n",
      "Epoch 200: saving model to model/keypoint_classifier/keypoint_classifier.hdf5\n",
      "33/33 [==============================] - 1s 18ms/step - loss: 0.1543 - accuracy: 0.9565 - val_loss: 0.1413 - val_accuracy: 0.9594\n",
      "Epoch 201/10000\n",
      "32/33 [============================>.] - ETA: 0s - loss: 0.1626 - accuracy: 0.9507\n",
      "Epoch 201: saving model to model/keypoint_classifier/keypoint_classifier.hdf5\n",
      "33/33 [==============================] - 1s 18ms/step - loss: 0.1634 - accuracy: 0.9505 - val_loss: 0.1758 - val_accuracy: 0.9391\n",
      "Epoch 202/10000\n",
      "32/33 [============================>.] - ETA: 0s - loss: 0.1860 - accuracy: 0.9470\n",
      "Epoch 202: saving model to model/keypoint_classifier/keypoint_classifier.hdf5\n",
      "33/33 [==============================] - 1s 18ms/step - loss: 0.1849 - accuracy: 0.9473 - val_loss: 0.1272 - val_accuracy: 0.9616\n",
      "Epoch 203/10000\n",
      "33/33 [==============================] - ETA: 0s - loss: 0.1540 - accuracy: 0.9522\n",
      "Epoch 203: saving model to model/keypoint_classifier/keypoint_classifier.hdf5\n",
      "33/33 [==============================] - 1s 17ms/step - loss: 0.1540 - accuracy: 0.9522 - val_loss: 0.1350 - val_accuracy: 0.9609\n",
      "Epoch 204/10000\n",
      "33/33 [==============================] - ETA: 0s - loss: 0.1395 - accuracy: 0.9555\n",
      "Epoch 204: saving model to model/keypoint_classifier/keypoint_classifier.hdf5\n",
      "33/33 [==============================] - 1s 18ms/step - loss: 0.1395 - accuracy: 0.9555 - val_loss: 0.1232 - val_accuracy: 0.9609\n",
      "Epoch 205/10000\n",
      "32/33 [============================>.] - ETA: 0s - loss: 0.1445 - accuracy: 0.9587\n",
      "Epoch 205: saving model to model/keypoint_classifier/keypoint_classifier.hdf5\n",
      "33/33 [==============================] - 1s 18ms/step - loss: 0.1461 - accuracy: 0.9580 - val_loss: 0.2016 - val_accuracy: 0.9355\n",
      "Epoch 206/10000\n",
      "32/33 [============================>.] - ETA: 0s - loss: 0.1741 - accuracy: 0.9480\n",
      "Epoch 206: saving model to model/keypoint_classifier/keypoint_classifier.hdf5\n",
      "33/33 [==============================] - 1s 18ms/step - loss: 0.1729 - accuracy: 0.9483 - val_loss: 0.1286 - val_accuracy: 0.9594\n",
      "Epoch 207/10000\n",
      "33/33 [==============================] - ETA: 0s - loss: 0.1439 - accuracy: 0.9580\n",
      "Epoch 207: saving model to model/keypoint_classifier/keypoint_classifier.hdf5\n",
      "33/33 [==============================] - 1s 17ms/step - loss: 0.1439 - accuracy: 0.9580 - val_loss: 0.1238 - val_accuracy: 0.9609\n",
      "Epoch 208/10000\n",
      "32/33 [============================>.] - ETA: 0s - loss: 0.1463 - accuracy: 0.9595\n",
      "Epoch 208: saving model to model/keypoint_classifier/keypoint_classifier.hdf5\n",
      "33/33 [==============================] - 1s 20ms/step - loss: 0.1456 - accuracy: 0.9597 - val_loss: 0.1380 - val_accuracy: 0.9558\n",
      "Epoch 209/10000\n",
      "33/33 [==============================] - ETA: 0s - loss: 0.1417 - accuracy: 0.9580\n",
      "Epoch 209: saving model to model/keypoint_classifier/keypoint_classifier.hdf5\n",
      "33/33 [==============================] - 1s 17ms/step - loss: 0.1417 - accuracy: 0.9580 - val_loss: 0.1616 - val_accuracy: 0.9529\n",
      "Epoch 210/10000\n",
      "33/33 [==============================] - ETA: 0s - loss: 0.1350 - accuracy: 0.9587\n",
      "Epoch 210: saving model to model/keypoint_classifier/keypoint_classifier.hdf5\n",
      "33/33 [==============================] - 1s 17ms/step - loss: 0.1350 - accuracy: 0.9587 - val_loss: 0.1391 - val_accuracy: 0.9522\n",
      "Epoch 210: early stopping\n"
     ]
    },
    {
     "data": {
      "text/plain": [
       "<keras.callbacks.History at 0x7f7405ebdd60>"
      ]
     },
     "execution_count": 177,
     "metadata": {},
     "output_type": "execute_result"
    }
   ],
   "source": [
    "model_3.fit(\n",
    "    X_train,\n",
    "    y_train,\n",
    "    epochs=10000,\n",
    "    batch_size=128,\n",
    "    validation_data=(X_test, y_test),\n",
    "    callbacks=[cp_callback, es_callback],\n",
    ")"
   ]
  },
  {
   "cell_type": "code",
   "execution_count": 162,
   "metadata": {
    "colab": {
     "base_uri": "https://localhost:8080/"
    },
    "id": "pxvb2Y299hE3",
    "outputId": "59eb3185-2e37-4b9e-bc9d-ab1b8ac29b7f"
   },
   "outputs": [
    {
     "name": "stdout",
     "output_type": "stream",
     "text": [
      "11/11 [==============================] - 0s 1ms/step - loss: 0.3351 - accuracy: 0.8971\n"
     ]
    }
   ],
   "source": [
    "# Model evaluation\n",
    "model = model_1\n",
    "val_loss, val_acc = model.evaluate(X_test, y_test, batch_size=128)"
   ]
  },
  {
   "cell_type": "code",
   "execution_count": 163,
   "metadata": {
    "id": "RBkmDeUW9hE4"
   },
   "outputs": [],
   "source": [
    "# Loading the saved model\n",
    "model = tf.keras.models.load_model(model_save_path)"
   ]
  },
  {
   "cell_type": "code",
   "execution_count": 164,
   "metadata": {
    "colab": {
     "base_uri": "https://localhost:8080/"
    },
    "id": "tFz9Tb0I9hE4",
    "outputId": "1c3b3528-54ae-4ee2-ab04-77429211cbef"
   },
   "outputs": [
    {
     "name": "stdout",
     "output_type": "stream",
     "text": [
      "1/1 [==============================] - 0s 36ms/step\n",
      "[3.6126648e-03 8.1917256e-01 1.7721476e-01 5.5073636e-18 6.9420900e-20\n",
      " 1.9496808e-23 2.4059578e-21]\n",
      "1\n"
     ]
    }
   ],
   "source": [
    "# Inference test\n",
    "predict_result = model.predict(np.array([X_test[0]]))\n",
    "print(np.squeeze(predict_result))\n",
    "print(np.argmax(np.squeeze(predict_result)))"
   ]
  },
  {
   "cell_type": "markdown",
   "metadata": {
    "id": "S3U4yNWx9hE4"
   },
   "source": [
    "# Confusion matrix"
   ]
  },
  {
   "cell_type": "code",
   "execution_count": 55,
   "metadata": {
    "colab": {
     "base_uri": "https://localhost:8080/",
     "height": 582
    },
    "id": "AP1V6SCk9hE5",
    "outputId": "08e41a80-7a4a-4619-8125-ecc371368d19"
   },
   "outputs": [
    {
     "name": "stdout",
     "output_type": "stream",
     "text": [
      "44/44 [==============================] - 0s 740us/step\n"
     ]
    },
    {
     "data": {
      "image/png": "[encoded data removed]",
      "text/plain": [
       "<Figure size 700x600 with 2 Axes>"
      ]
     },
     "metadata": {},
     "output_type": "display_data"
    },
    {
     "name": "stdout",
     "output_type": "stream",
     "text": [
      "Classification Report\n",
      "              precision    recall  f1-score   support\n",
      "\n",
      "           0       0.96      0.92      0.94       415\n",
      "           1       0.99      0.83      0.90       376\n",
      "           2       0.90      0.93      0.91       330\n",
      "           3       0.78      0.90      0.83        86\n",
      "           4       0.90      1.00      0.95        37\n",
      "           5       0.76      1.00      0.86        76\n",
      "           6       0.68      1.00      0.81        60\n",
      "\n",
      "    accuracy                           0.91      1380\n",
      "   macro avg       0.85      0.94      0.89      1380\n",
      "weighted avg       0.92      0.91      0.91      1380\n",
      "\n"
     ]
    }
   ],
   "source": [
    "import pandas as pd\n",
    "import seaborn as sns\n",
    "import matplotlib.pyplot as plt\n",
    "from sklearn.metrics import confusion_matrix, classification_report\n",
    "\n",
    "def print_confusion_matrix(y_true, y_pred, report=True):\n",
    "    labels = sorted(list(set(y_true)))\n",
    "    cmx_data = confusion_matrix(y_true, y_pred, labels=labels)\n",
    "    \n",
    "    df_cmx = pd.DataFrame(cmx_data, index=labels, columns=labels)\n",
    " \n",
    "    fig, ax = plt.subplots(figsize=(7, 6))\n",
    "    sns.heatmap(df_cmx, annot=True, fmt='g' ,square=False)\n",
    "    ax.set_ylim(len(set(y_true)), 0)\n",
    "    plt.show()\n",
    "    \n",
    "    if report:\n",
    "        print('Classification Report')\n",
    "        print(classification_report(y_test, y_pred))\n",
    "\n",
    "Y_pred = model.predict(X_test)\n",
    "y_pred = np.argmax(Y_pred, axis=1)\n",
    "\n",
    "print_confusion_matrix(y_test, y_pred)"
   ]
  },
  {
   "cell_type": "markdown",
   "metadata": {
    "id": "FNP6aqzc9hE5"
   },
   "source": [
    "# Convert to model for Tensorflow-Lite"
   ]
  },
  {
   "cell_type": "code",
   "execution_count": 18,
   "metadata": {
    "id": "ODjnYyld9hE6"
   },
   "outputs": [],
   "source": [
    "# Save as a model dedicated to inference\n",
    "model.save(model_save_path, include_optimizer=False)"
   ]
  },
  {
   "cell_type": "code",
   "execution_count": 19,
   "metadata": {
    "colab": {
     "base_uri": "https://localhost:8080/"
    },
    "id": "zRfuK8Y59hE6",
    "outputId": "a4ca585c-b5d5-4244-8291-8674063209bb"
   },
   "outputs": [
    {
     "name": "stderr",
     "output_type": "stream",
     "text": [
      "WARNING:absl:Found untraced functions such as _update_step_xla while saving (showing 1 of 1). These functions will not be directly callable after loading.\n"
     ]
    },
    {
     "name": "stdout",
     "output_type": "stream",
     "text": [
      "INFO:tensorflow:Assets written to: /tmp/tmpiu9zeepn/assets\n"
     ]
    },
    {
     "name": "stderr",
     "output_type": "stream",
     "text": [
      "INFO:tensorflow:Assets written to: /tmp/tmpiu9zeepn/assets\n",
      "2023-03-06 09:16:38.587560: W tensorflow/compiler/mlir/lite/python/tf_tfl_flatbuffer_helpers.cc:362] Ignored output_format.\n",
      "2023-03-06 09:16:38.587581: W tensorflow/compiler/mlir/lite/python/tf_tfl_flatbuffer_helpers.cc:365] Ignored drop_control_dependency.\n",
      "2023-03-06 09:16:38.588131: I tensorflow/cc/saved_model/reader.cc:45] Reading SavedModel from: /tmp/tmpiu9zeepn\n",
      "2023-03-06 09:16:38.589249: I tensorflow/cc/saved_model/reader.cc:89] Reading meta graph with tags { serve }\n",
      "2023-03-06 09:16:38.589263: I tensorflow/cc/saved_model/reader.cc:130] Reading SavedModel debug info (if present) from: /tmp/tmpiu9zeepn\n",
      "2023-03-06 09:16:38.593187: I tensorflow/compiler/mlir/mlir_graph_optimization_pass.cc:357] MLIR V1 optimization pass is not enabled\n",
      "2023-03-06 09:16:38.593938: I tensorflow/cc/saved_model/loader.cc:229] Restoring SavedModel bundle.\n",
      "2023-03-06 09:16:38.625172: I tensorflow/cc/saved_model/loader.cc:213] Running initialization op on SavedModel bundle at path: /tmp/tmpiu9zeepn\n",
      "2023-03-06 09:16:38.635704: I tensorflow/cc/saved_model/loader.cc:305] SavedModel load for tags { serve }; Status: success: OK. Took 47579 microseconds.\n",
      "2023-03-06 09:16:38.651242: I tensorflow/compiler/mlir/tensorflow/utils/dump_mlir_util.cc:268] disabling MLIR crash reproducer, set env var `MLIR_CRASH_REPRODUCER_DIRECTORY` to enable.\n"
     ]
    },
    {
     "data": {
      "text/plain": [
       "6704"
      ]
     },
     "execution_count": 19,
     "metadata": {},
     "output_type": "execute_result"
    }
   ],
   "source": [
    "# Transform model (quantization)\n",
    "\n",
    "converter = tf.lite.TFLiteConverter.from_keras_model(model)\n",
    "converter.optimizations = [tf.lite.Optimize.DEFAULT]\n",
    "tflite_quantized_model = converter.convert()\n",
    "\n",
    "open(tflite_save_path, 'wb').write(tflite_quantized_model)"
   ]
  },
  {
   "cell_type": "markdown",
   "metadata": {
    "id": "CHBPBXdx9hE6"
   },
   "source": [
    "# Inference test"
   ]
  },
  {
   "cell_type": "code",
   "execution_count": 20,
   "metadata": {
    "id": "mGAzLocO9hE7"
   },
   "outputs": [
    {
     "name": "stderr",
     "output_type": "stream",
     "text": [
      "INFO: Created TensorFlow Lite XNNPACK delegate for CPU.\n"
     ]
    }
   ],
   "source": [
    "interpreter = tf.lite.Interpreter(model_path=tflite_save_path)\n",
    "interpreter.allocate_tensors()"
   ]
  },
  {
   "cell_type": "code",
   "execution_count": 21,
   "metadata": {
    "id": "oQuDK8YS9hE7"
   },
   "outputs": [],
   "source": [
    "# Get I / O tensor\n",
    "input_details = interpreter.get_input_details()\n",
    "output_details = interpreter.get_output_details()"
   ]
  },
  {
   "cell_type": "code",
   "execution_count": 50,
   "metadata": {
    "id": "2_ixAf_l9hE7"
   },
   "outputs": [],
   "source": [
    "interpreter.set_tensor(input_details[0]['index'], np.array([X_test[0]]))"
   ]
  },
  {
   "cell_type": "code",
   "execution_count": 51,
   "metadata": {
    "colab": {
     "base_uri": "https://localhost:8080/"
    },
    "id": "s4FoAnuc9hE7",
    "outputId": "91f18257-8d8b-4ef3-c558-e9b5f94fabbf",
    "scrolled": true
   },
   "outputs": [
    {
     "name": "stdout",
     "output_type": "stream",
     "text": [
      "CPU times: user 37 µs, sys: 2 µs, total: 39 µs\n",
      "Wall time: 45.3 µs\n"
     ]
    }
   ],
   "source": [
    "%%time\n",
    "# Inference implementation\n",
    "interpreter.invoke()\n",
    "tflite_results = interpreter.get_tensor(output_details[0]['index'])"
   ]
  },
  {
   "cell_type": "code",
   "execution_count": 52,
   "metadata": {
    "colab": {
     "base_uri": "https://localhost:8080/"
    },
    "id": "vONjp19J9hE8",
    "outputId": "77205e24-fd00-42c4-f7b6-e06e527c2cba"
   },
   "outputs": [
    {
     "name": "stdout",
     "output_type": "stream",
     "text": [
      "[9.6528351e-01 3.4601703e-02 2.3508295e-05 9.1302078e-05]\n",
      "0\n"
     ]
    }
   ],
   "source": [
    "print(np.squeeze(tflite_results))\n",
    "print(np.argmax(np.squeeze(tflite_results)))"
   ]
  }
 ],
 "metadata": {
  "accelerator": "GPU",
  "colab": {
   "collapsed_sections": [],
   "name": "keypoint_classification_EN.ipynb",
   "provenance": [],
   "toc_visible": true
  },
  "kernelspec": {
   "display_name": "Python 3 (ipykernel)",
   "language": "python",
   "name": "python3"
  },
  "language_info": {
   "codemirror_mode": {
    "name": "ipython",
    "version": 3
   },
   "file_extension": ".py",
   "mimetype": "text/x-python",
   "name": "python",
   "nbconvert_exporter": "python",
   "pygments_lexer": "ipython3",
   "version": "3.8.10"
  }
 },
 "nbformat": 4,
 "nbformat_minor": 1
}
