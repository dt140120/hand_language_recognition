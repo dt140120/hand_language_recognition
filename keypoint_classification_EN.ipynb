{
 "cells": [
  {
   "cell_type": "code",
   "execution_count": 1,
   "metadata": {
    "id": "igMyGnjE9hEp"
   },
   "outputs": [
    {
     "name": "stderr",
     "output_type": "stream",
     "text": [
      "2023-04-06 20:31:03.297565: I tensorflow/core/platform/cpu_feature_guard.cc:193] This TensorFlow binary is optimized with oneAPI Deep Neural Network Library (oneDNN) to use the following CPU instructions in performance-critical operations:  AVX2 FMA\n",
      "To enable them in other operations, rebuild TensorFlow with the appropriate compiler flags.\n",
      "2023-04-06 20:31:03.538198: W tensorflow/compiler/xla/stream_executor/platform/default/dso_loader.cc:64] Could not load dynamic library 'libcudart.so.11.0'; dlerror: libcudart.so.11.0: cannot open shared object file: No such file or directory\n",
      "2023-04-06 20:31:03.538228: I tensorflow/compiler/xla/stream_executor/cuda/cudart_stub.cc:29] Ignore above cudart dlerror if you do not have a GPU set up on your machine.\n",
      "2023-04-06 20:31:04.679994: W tensorflow/compiler/xla/stream_executor/platform/default/dso_loader.cc:64] Could not load dynamic library 'libnvinfer.so.7'; dlerror: libnvinfer.so.7: cannot open shared object file: No such file or directory\n",
      "2023-04-06 20:31:04.680072: W tensorflow/compiler/xla/stream_executor/platform/default/dso_loader.cc:64] Could not load dynamic library 'libnvinfer_plugin.so.7'; dlerror: libnvinfer_plugin.so.7: cannot open shared object file: No such file or directory\n",
      "2023-04-06 20:31:04.680079: W tensorflow/compiler/tf2tensorrt/utils/py_utils.cc:38] TF-TRT Warning: Cannot dlopen some TensorRT libraries. If you would like to use Nvidia GPU with TensorRT, please make sure the missing libraries mentioned above are installed properly.\n"
     ]
    }
   ],
   "source": [
    "import csv\n",
    "\n",
    "import numpy as np\n",
    "import tensorflow as tf\n",
    "from sklearn.model_selection import train_test_split\n",
    "\n",
    "RANDOM_SEED = 42"
   ]
  },
  {
   "cell_type": "markdown",
   "metadata": {
    "id": "t2HDvhIu9hEr"
   },
   "source": [
    "# Specify each path"
   ]
  },
  {
   "cell_type": "code",
   "execution_count": 166,
   "metadata": {
    "id": "9NvZP2Zn9hEy"
   },
   "outputs": [],
   "source": [
    "dataset = 'model/keypoint_classifier/keypoint.csv'\n",
    "model_save_path = 'model/keypoint_classifier/keypoint_classifier.hdf5'\n",
    "tflite_save_path = 'model/keypoint_classifier/keypoint_classifier.tflite'"
   ]
  },
  {
   "cell_type": "markdown",
   "metadata": {
    "id": "s5oMH7x19hEz"
   },
   "source": [
    "# Set number of classes"
   ]
  },
  {
   "cell_type": "code",
   "execution_count": 167,
   "metadata": {
    "id": "du4kodXL9hEz"
   },
   "outputs": [],
   "source": [
    "NUM_CLASSES = 7"
   ]
  },
  {
   "cell_type": "markdown",
   "metadata": {
    "id": "XjnL0uso9hEz"
   },
   "source": [
    "# Dataset reading"
   ]
  },
  {
   "cell_type": "code",
   "execution_count": 193,
   "metadata": {
    "id": "QT5ZqtEz9hE0"
   },
   "outputs": [],
   "source": [
    "X_dataset = np.loadtxt(dataset, delimiter=',', dtype='float32', usecols=list(range(1, (21 * 2) + 1)))"
   ]
  },
  {
   "cell_type": "code",
   "execution_count": 194,
   "metadata": {
    "id": "QmoKFsp49hE0"
   },
   "outputs": [],
   "source": [
    "y_dataset = np.loadtxt(dataset, delimiter=',', dtype='int32', usecols=(0))"
   ]
  },
  {
   "cell_type": "code",
   "execution_count": 195,
   "metadata": {
    "id": "xQU7JTZ_9hE0"
   },
   "outputs": [],
   "source": [
    "X_train, X_test, y_train, y_test = train_test_split(X_dataset, y_dataset, train_size=0.75, random_state=RANDOM_SEED)"
   ]
  },
  {
   "cell_type": "markdown",
   "metadata": {
    "id": "mxK_lETT9hE0"
   },
   "source": [
    "# Model building MLP"
   ]
  },
  {
   "cell_type": "code",
   "execution_count": 190,
   "metadata": {
    "id": "vHBmUf1t9hE1"
   },
   "outputs": [],
   "source": [
    "model_1 = tf.keras.models.Sequential([\n",
    "    tf.keras.layers.Input((21 * 2, )),\n",
    "    tf.keras.layers.Dropout(0.2),\n",
    "    tf.keras.layers.Dense(20, activation='relu'),\n",
    "    tf.keras.layers.Dropout(0.4),\n",
    "    tf.keras.layers.Dense(10, activation='relu'),\n",
    "    tf.keras.layers.Dense(NUM_CLASSES, activation='softmax')\n",
    "])"
   ]
  },
  {
   "cell_type": "code",
   "execution_count": 191,
   "metadata": {
    "colab": {
     "base_uri": "https://localhost:8080/"
    },
    "id": "ypqky9tc9hE1",
    "outputId": "5db082bb-30e3-4110-bf63-a1ee777ecd46",
    "scrolled": true
   },
   "outputs": [
    {
     "name": "stdout",
     "output_type": "stream",
     "text": [
      "Model: \"sequential_33\"\n",
      "_________________________________________________________________\n",
      " Layer (type)                Output Shape              Param #   \n",
      "=================================================================\n",
      " dropout_30 (Dropout)        (None, 42)                0         \n",
      "                                                                 \n",
      " dense_81 (Dense)            (None, 20)                860       \n",
      "                                                                 \n",
      " dropout_31 (Dropout)        (None, 20)                0         \n",
      "                                                                 \n",
      " dense_82 (Dense)            (None, 10)                210       \n",
      "                                                                 \n",
      " dense_83 (Dense)            (None, 7)                 77        \n",
      "                                                                 \n",
      "=================================================================\n",
      "Total params: 1,147\n",
      "Trainable params: 1,147\n",
      "Non-trainable params: 0\n",
      "_________________________________________________________________\n"
     ]
    }
   ],
   "source": [
    "model_1.summary()  # tf.keras.utils.plot_model(model, show_shapes=True)"
   ]
  },
  {
   "cell_type": "code",
   "execution_count": 158,
   "metadata": {
    "id": "c3Dac0M_9hE2"
   },
   "outputs": [],
   "source": [
    "# Model compilation\n",
    "model_1.compile(\n",
    "    optimizer='adam',\n",
    "    loss='sparse_categorical_crossentropy',\n",
    "    metrics=['accuracy']\n",
    ")"
   ]
  },
  {
   "cell_type": "markdown",
   "metadata": {},
   "source": [
    "# Model building CNN"
   ]
  },
  {
   "cell_type": "code",
   "execution_count": 147,
   "metadata": {},
   "outputs": [],
   "source": [
    "model_2 = tf.keras.models.Sequential([\n",
    "    tf.keras.layers.Conv1D(32, 3, activation='relu', input_shape=(42, 1)),\n",
    "    tf.keras.layers.MaxPooling1D(2),\n",
    "    tf.keras.layers.Conv1D(64, 3, activation='relu'),\n",
    "    tf.keras.layers.MaxPooling1D(2),\n",
    "    tf.keras.layers.Conv1D(64, 3, activation='relu'),\n",
    "    tf.keras.layers.Flatten(),\n",
    "    tf.keras.layers.Dense(64, activation='relu'),\n",
    "    tf.keras.layers.Dense(NUM_CLASSES, activation='softmax')\n",
    "])"
   ]
  },
  {
   "cell_type": "code",
   "execution_count": 148,
   "metadata": {},
   "outputs": [
    {
     "name": "stdout",
     "output_type": "stream",
     "text": [
      "Model: \"sequential_27\"\n",
      "_________________________________________________________________\n",
      " Layer (type)                Output Shape              Param #   \n",
      "=================================================================\n",
      " conv1d_51 (Conv1D)          (None, 40, 32)            128       \n",
      "                                                                 \n",
      " max_pooling1d_34 (MaxPoolin  (None, 20, 32)           0         \n",
      " g1D)                                                            \n",
      "                                                                 \n",
      " conv1d_52 (Conv1D)          (None, 18, 64)            6208      \n",
      "                                                                 \n",
      " max_pooling1d_35 (MaxPoolin  (None, 9, 64)            0         \n",
      " g1D)                                                            \n",
      "                                                                 \n",
      " conv1d_53 (Conv1D)          (None, 7, 64)             12352     \n",
      "                                                                 \n",
      " flatten_17 (Flatten)        (None, 448)               0         \n",
      "                                                                 \n",
      " dense_66 (Dense)            (None, 64)                28736     \n",
      "                                                                 \n",
      " dense_67 (Dense)            (None, 7)                 455       \n",
      "                                                                 \n",
      "=================================================================\n",
      "Total params: 47,879\n",
      "Trainable params: 47,879\n",
      "Non-trainable params: 0\n",
      "_________________________________________________________________\n"
     ]
    }
   ],
   "source": [
    "model_2.summary()  # tf.keras.utils.plot_model(model, show_shapes=True)"
   ]
  },
  {
   "cell_type": "code",
   "execution_count": 149,
   "metadata": {},
   "outputs": [],
   "source": [
    "# Model compilation\n",
    "model_2.compile(\n",
    "    optimizer='adam',\n",
    "    loss='sparse_categorical_crossentropy',\n",
    "    metrics=['accuracy']\n",
    ")"
   ]
  },
  {
   "cell_type": "markdown",
   "metadata": {},
   "source": [
    "# Model building LSTM"
   ]
  },
  {
   "cell_type": "code",
   "execution_count": 180,
   "metadata": {},
   "outputs": [],
   "source": [
    "model_3 = tf.keras.models.Sequential([\n",
    "    tf.keras.layers.LSTM(42, input_shape=(42, 1)),\n",
    "    tf.keras.layers.Dropout(0.5),\n",
    "    tf.keras.layers.Dense(20, activation='relu'),\n",
    "    tf.keras.layers.Dropout(0.4),\n",
    "    tf.keras.layers.Dense(10, activation='relu'),\n",
    "    tf.keras.layers.Dense(NUM_CLASSES, activation='softmax')\n",
    "])"
   ]
  },
  {
   "cell_type": "code",
   "execution_count": 181,
   "metadata": {},
   "outputs": [
    {
     "name": "stdout",
     "output_type": "stream",
     "text": [
      "Model: \"sequential_31\"\n",
      "_________________________________________________________________\n",
      " Layer (type)                Output Shape              Param #   \n",
      "=================================================================\n",
      " lstm_2 (LSTM)               (None, 42)                7392      \n",
      "                                                                 \n",
      " dropout_26 (Dropout)        (None, 42)                0         \n",
      "                                                                 \n",
      " dense_75 (Dense)            (None, 20)                860       \n",
      "                                                                 \n",
      " dropout_27 (Dropout)        (None, 20)                0         \n",
      "                                                                 \n",
      " dense_76 (Dense)            (None, 10)                210       \n",
      "                                                                 \n",
      " dense_77 (Dense)            (None, 7)                 77        \n",
      "                                                                 \n",
      "=================================================================\n",
      "Total params: 8,539\n",
      "Trainable params: 8,539\n",
      "Non-trainable params: 0\n",
      "_________________________________________________________________\n"
     ]
    }
   ],
   "source": [
    "model_3.summary()"
   ]
  },
  {
   "cell_type": "code",
   "execution_count": 182,
   "metadata": {},
   "outputs": [],
   "source": [
    "# Model compilation\n",
    "model_3.compile(\n",
    "    optimizer='adam',\n",
    "    loss='sparse_categorical_crossentropy',\n",
    "    metrics=['accuracy']\n",
    ")"
   ]
  },
  {
   "cell_type": "markdown",
   "metadata": {},
   "source": [
    "# Model building MLP"
   ]
  },
  {
   "cell_type": "code",
   "execution_count": null,
   "metadata": {},
   "outputs": [],
   "source": [
    "model_4 = tf.keras.models.Sequential([\n",
    "    tf.keras.layers.LSTM(42, input_shape=(42, 1)),\n",
    "    tf.keras.layers.Dropout(0.5),\n",
    "    tf.keras.layers.Dense(20, activation='relu'),\n",
    "    tf.keras.layers.Dropout(0.4),\n",
    "    tf.keras.layers.Dense(10, activation='relu'),\n",
    "    tf.keras.layers.Dense(NUM_CLASSES, activation='softmax')\n",
    "])"
   ]
  },
  {
   "cell_type": "markdown",
   "metadata": {},
   "source": [
    "# CallBack"
   ]
  },
  {
   "cell_type": "code",
   "execution_count": 183,
   "metadata": {},
   "outputs": [],
   "source": [
    "# Model checkpoint callback\n",
    "cp_callback = tf.keras.callbacks.ModelCheckpoint(\n",
    "    model_save_path, verbose=1, save_weights_only=False)\n",
    "# Callback for early stopping\n",
    "es_callback = tf.keras.callbacks.EarlyStopping(patience=20, verbose=1)"
   ]
  },
  {
   "cell_type": "markdown",
   "metadata": {
    "id": "7XI0j1Iu9hE2"
   },
   "source": [
    "# Model training"
   ]
  },
  {
   "cell_type": "code",
   "execution_count": 186,
   "metadata": {
    "colab": {
     "base_uri": "https://localhost:8080/"
    },
    "id": "WirBl-JE9hE3",
    "outputId": "71b30ca2-8294-4d9d-8aa2-800d90d399de",
    "scrolled": false
   },
   "outputs": [
    {
     "name": "stdout",
     "output_type": "stream",
     "text": [
      "Epoch 1/10000\n",
      " 1/33 [..............................] - ETA: 0s - loss: 0.5890 - accuracy: 0.8203\n",
      "Epoch 1: saving model to model/keypoint_classifier/keypoint_classifier.hdf5\n",
      "33/33 [==============================] - 0s 3ms/step - loss: 0.6420 - accuracy: 0.7654 - val_loss: 0.3203 - val_accuracy: 0.9014\n",
      "Epoch 2/10000\n",
      " 1/33 [..............................] - ETA: 0s - loss: 0.6510 - accuracy: 0.7812\n",
      "Epoch 2: saving model to model/keypoint_classifier/keypoint_classifier.hdf5\n",
      "33/33 [==============================] - 0s 2ms/step - loss: 0.6485 - accuracy: 0.7586 - val_loss: 0.3430 - val_accuracy: 0.8928\n",
      "Epoch 3/10000\n",
      " 1/33 [..............................] - ETA: 0s - loss: 0.6409 - accuracy: 0.7578\n",
      "Epoch 3: saving model to model/keypoint_classifier/keypoint_classifier.hdf5\n",
      "33/33 [==============================] - 0s 2ms/step - loss: 0.6257 - accuracy: 0.7683 - val_loss: 0.3246 - val_accuracy: 0.9058\n",
      "Epoch 4/10000\n",
      " 1/33 [..............................] - ETA: 0s - loss: 0.6073 - accuracy: 0.8047\n",
      "Epoch 4: saving model to model/keypoint_classifier/keypoint_classifier.hdf5\n",
      "33/33 [==============================] - 0s 2ms/step - loss: 0.6385 - accuracy: 0.7577 - val_loss: 0.3233 - val_accuracy: 0.9051\n",
      "Epoch 5/10000\n",
      " 1/33 [..............................] - ETA: 0s - loss: 0.5670 - accuracy: 0.7969\n",
      "Epoch 5: saving model to model/keypoint_classifier/keypoint_classifier.hdf5\n",
      "33/33 [==============================] - 0s 2ms/step - loss: 0.6448 - accuracy: 0.7608 - val_loss: 0.3342 - val_accuracy: 0.9000\n",
      "Epoch 6/10000\n",
      " 1/33 [..............................] - ETA: 0s - loss: 0.6016 - accuracy: 0.7578\n",
      "Epoch 6: saving model to model/keypoint_classifier/keypoint_classifier.hdf5\n",
      "33/33 [==============================] - 0s 3ms/step - loss: 0.6266 - accuracy: 0.7664 - val_loss: 0.3291 - val_accuracy: 0.8971\n",
      "Epoch 7/10000\n",
      " 1/33 [..............................] - ETA: 0s - loss: 0.5875 - accuracy: 0.7734\n",
      "Epoch 7: saving model to model/keypoint_classifier/keypoint_classifier.hdf5\n",
      "33/33 [==============================] - 0s 3ms/step - loss: 0.6617 - accuracy: 0.7548 - val_loss: 0.3310 - val_accuracy: 0.9043\n",
      "Epoch 8/10000\n",
      " 1/33 [..............................] - ETA: 0s - loss: 0.7059 - accuracy: 0.7578\n",
      "Epoch 8: saving model to model/keypoint_classifier/keypoint_classifier.hdf5\n",
      "33/33 [==============================] - 0s 2ms/step - loss: 0.6563 - accuracy: 0.7538 - val_loss: 0.3379 - val_accuracy: 0.8978\n",
      "Epoch 9/10000\n",
      " 1/33 [..............................] - ETA: 0s - loss: 0.6834 - accuracy: 0.7500\n",
      "Epoch 9: saving model to model/keypoint_classifier/keypoint_classifier.hdf5\n",
      "33/33 [==============================] - 0s 2ms/step - loss: 0.6259 - accuracy: 0.7698 - val_loss: 0.3260 - val_accuracy: 0.9043\n",
      "Epoch 10/10000\n",
      " 1/33 [..............................] - ETA: 0s - loss: 0.6098 - accuracy: 0.7500\n",
      "Epoch 10: saving model to model/keypoint_classifier/keypoint_classifier.hdf5\n",
      "33/33 [==============================] - 0s 2ms/step - loss: 0.6263 - accuracy: 0.7637 - val_loss: 0.3417 - val_accuracy: 0.8884\n",
      "Epoch 11/10000\n",
      " 1/33 [..............................] - ETA: 0s - loss: 0.5546 - accuracy: 0.7734\n",
      "Epoch 11: saving model to model/keypoint_classifier/keypoint_classifier.hdf5\n",
      "33/33 [==============================] - 0s 2ms/step - loss: 0.6128 - accuracy: 0.7777 - val_loss: 0.3163 - val_accuracy: 0.9022\n",
      "Epoch 12/10000\n",
      " 1/33 [..............................] - ETA: 0s - loss: 0.7185 - accuracy: 0.7109\n",
      "Epoch 12: saving model to model/keypoint_classifier/keypoint_classifier.hdf5\n",
      "33/33 [==============================] - 0s 2ms/step - loss: 0.6453 - accuracy: 0.7618 - val_loss: 0.3340 - val_accuracy: 0.8949\n",
      "Epoch 13/10000\n",
      " 1/33 [..............................] - ETA: 0s - loss: 0.7165 - accuracy: 0.7500\n",
      "Epoch 13: saving model to model/keypoint_classifier/keypoint_classifier.hdf5\n",
      "33/33 [==============================] - 0s 2ms/step - loss: 0.6326 - accuracy: 0.7736 - val_loss: 0.3236 - val_accuracy: 0.9000\n",
      "Epoch 14/10000\n",
      " 1/33 [..............................] - ETA: 0s - loss: 0.5443 - accuracy: 0.7422\n",
      "Epoch 14: saving model to model/keypoint_classifier/keypoint_classifier.hdf5\n",
      "33/33 [==============================] - 0s 2ms/step - loss: 0.6282 - accuracy: 0.7596 - val_loss: 0.3331 - val_accuracy: 0.8942\n",
      "Epoch 15/10000\n",
      " 1/33 [..............................] - ETA: 0s - loss: 0.7116 - accuracy: 0.7266\n",
      "Epoch 15: saving model to model/keypoint_classifier/keypoint_classifier.hdf5\n",
      "33/33 [==============================] - 0s 2ms/step - loss: 0.6097 - accuracy: 0.7664 - val_loss: 0.3362 - val_accuracy: 0.8920\n",
      "Epoch 16/10000\n",
      " 1/33 [..............................] - ETA: 0s - loss: 0.5742 - accuracy: 0.7500\n",
      "Epoch 16: saving model to model/keypoint_classifier/keypoint_classifier.hdf5\n",
      "33/33 [==============================] - 0s 2ms/step - loss: 0.6191 - accuracy: 0.7719 - val_loss: 0.3274 - val_accuracy: 0.8891\n",
      "Epoch 17/10000\n",
      " 1/33 [..............................] - ETA: 0s - loss: 0.7401 - accuracy: 0.7734\n",
      "Epoch 17: saving model to model/keypoint_classifier/keypoint_classifier.hdf5\n",
      "33/33 [==============================] - 0s 2ms/step - loss: 0.6365 - accuracy: 0.7681 - val_loss: 0.3344 - val_accuracy: 0.8884\n",
      "Epoch 18/10000\n",
      " 1/33 [..............................] - ETA: 0s - loss: 0.5784 - accuracy: 0.7891\n",
      "Epoch 18: saving model to model/keypoint_classifier/keypoint_classifier.hdf5\n",
      "33/33 [==============================] - 0s 2ms/step - loss: 0.6343 - accuracy: 0.7647 - val_loss: 0.3243 - val_accuracy: 0.8993\n",
      "Epoch 19/10000\n",
      " 1/33 [..............................] - ETA: 0s - loss: 0.5949 - accuracy: 0.7969\n",
      "Epoch 19: saving model to model/keypoint_classifier/keypoint_classifier.hdf5\n",
      "33/33 [==============================] - 0s 2ms/step - loss: 0.6269 - accuracy: 0.7669 - val_loss: 0.3236 - val_accuracy: 0.9007\n",
      "Epoch 20/10000\n",
      " 1/33 [..............................] - ETA: 0s - loss: 0.6469 - accuracy: 0.6953\n",
      "Epoch 20: saving model to model/keypoint_classifier/keypoint_classifier.hdf5\n",
      "33/33 [==============================] - 0s 2ms/step - loss: 0.6258 - accuracy: 0.7627 - val_loss: 0.3328 - val_accuracy: 0.8942\n",
      "Epoch 21/10000\n",
      " 1/33 [..............................] - ETA: 0s - loss: 0.6626 - accuracy: 0.7578\n",
      "Epoch 21: saving model to model/keypoint_classifier/keypoint_classifier.hdf5\n",
      "33/33 [==============================] - 0s 2ms/step - loss: 0.6220 - accuracy: 0.7620 - val_loss: 0.3341 - val_accuracy: 0.8949\n",
      "Epoch 22/10000\n",
      " 1/33 [..............................] - ETA: 0s - loss: 0.5651 - accuracy: 0.7578\n",
      "Epoch 22: saving model to model/keypoint_classifier/keypoint_classifier.hdf5\n",
      "33/33 [==============================] - 0s 2ms/step - loss: 0.6348 - accuracy: 0.7623 - val_loss: 0.3407 - val_accuracy: 0.8855\n",
      "Epoch 23/10000\n",
      " 1/33 [..............................] - ETA: 0s - loss: 0.5853 - accuracy: 0.7734\n",
      "Epoch 23: saving model to model/keypoint_classifier/keypoint_classifier.hdf5\n",
      "33/33 [==============================] - 0s 2ms/step - loss: 0.6318 - accuracy: 0.7647 - val_loss: 0.3356 - val_accuracy: 0.8957\n",
      "Epoch 24/10000\n",
      " 1/33 [..............................] - ETA: 0s - loss: 0.6186 - accuracy: 0.7656\n",
      "Epoch 24: saving model to model/keypoint_classifier/keypoint_classifier.hdf5\n",
      "33/33 [==============================] - 0s 2ms/step - loss: 0.6149 - accuracy: 0.7714 - val_loss: 0.3347 - val_accuracy: 0.8906\n",
      "Epoch 25/10000\n",
      " 1/33 [..............................] - ETA: 0s - loss: 0.5384 - accuracy: 0.7812\n",
      "Epoch 25: saving model to model/keypoint_classifier/keypoint_classifier.hdf5\n",
      "33/33 [==============================] - 0s 2ms/step - loss: 0.6293 - accuracy: 0.7681 - val_loss: 0.3337 - val_accuracy: 0.9007\n",
      "Epoch 26/10000\n",
      " 1/33 [..............................] - ETA: 0s - loss: 0.6601 - accuracy: 0.7266\n",
      "Epoch 26: saving model to model/keypoint_classifier/keypoint_classifier.hdf5\n",
      "33/33 [==============================] - 0s 2ms/step - loss: 0.6216 - accuracy: 0.7724 - val_loss: 0.3297 - val_accuracy: 0.8993\n",
      "Epoch 27/10000\n",
      " 1/33 [..............................] - ETA: 0s - loss: 0.5602 - accuracy: 0.7734\n",
      "Epoch 27: saving model to model/keypoint_classifier/keypoint_classifier.hdf5\n",
      "33/33 [==============================] - 0s 2ms/step - loss: 0.6266 - accuracy: 0.7647 - val_loss: 0.3297 - val_accuracy: 0.8986\n",
      "Epoch 28/10000\n"
     ]
    },
    {
     "name": "stdout",
     "output_type": "stream",
     "text": [
      " 1/33 [..............................] - ETA: 0s - loss: 0.7138 - accuracy: 0.7656\n",
      "Epoch 28: saving model to model/keypoint_classifier/keypoint_classifier.hdf5\n",
      "33/33 [==============================] - 0s 2ms/step - loss: 0.6419 - accuracy: 0.7681 - val_loss: 0.3402 - val_accuracy: 0.8848\n",
      "Epoch 29/10000\n",
      " 1/33 [..............................] - ETA: 0s - loss: 0.6942 - accuracy: 0.7578\n",
      "Epoch 29: saving model to model/keypoint_classifier/keypoint_classifier.hdf5\n",
      "33/33 [==============================] - 0s 2ms/step - loss: 0.6404 - accuracy: 0.7666 - val_loss: 0.3281 - val_accuracy: 0.8964\n",
      "Epoch 30/10000\n",
      " 1/33 [..............................] - ETA: 0s - loss: 0.5924 - accuracy: 0.7734\n",
      "Epoch 30: saving model to model/keypoint_classifier/keypoint_classifier.hdf5\n",
      "33/33 [==============================] - 0s 2ms/step - loss: 0.6491 - accuracy: 0.7664 - val_loss: 0.3436 - val_accuracy: 0.8920\n",
      "Epoch 31/10000\n",
      " 1/33 [..............................] - ETA: 0s - loss: 0.5624 - accuracy: 0.7969\n",
      "Epoch 31: saving model to model/keypoint_classifier/keypoint_classifier.hdf5\n",
      "33/33 [==============================] - 0s 2ms/step - loss: 0.6248 - accuracy: 0.7659 - val_loss: 0.3291 - val_accuracy: 0.8971\n",
      "Epoch 31: early stopping\n"
     ]
    },
    {
     "data": {
      "text/plain": [
       "<keras.callbacks.History at 0x7f7403704880>"
      ]
     },
     "execution_count": 186,
     "metadata": {},
     "output_type": "execute_result"
    }
   ],
   "source": [
    "model_1.fit(\n",
    "    X_train,\n",
    "    y_train,\n",
    "    epochs=10000,\n",
    "    batch_size=128,\n",
    "    validation_data=(X_test, y_test),\n",
    "    callbacks=[cp_callback, es_callback],\n",
    ")"
   ]
  },
  {
   "cell_type": "code",
   "execution_count": 187,
   "metadata": {
    "colab": {
     "base_uri": "https://localhost:8080/"
    },
    "id": "pxvb2Y299hE3",
    "outputId": "59eb3185-2e37-4b9e-bc9d-ab1b8ac29b7f"
   },
   "outputs": [
    {
     "name": "stdout",
     "output_type": "stream",
     "text": [
      "11/11 [==============================] - 0s 1ms/step - loss: 0.3291 - accuracy: 0.8971\n"
     ]
    }
   ],
   "source": [
    "# Model evaluation\n",
    "model = model_1\n",
    "val_loss, val_acc = model.evaluate(X_test, y_test, batch_size=128)"
   ]
  },
  {
   "cell_type": "code",
   "execution_count": 163,
   "metadata": {
    "id": "RBkmDeUW9hE4"
   },
   "outputs": [],
   "source": [
    "# Loading the saved model\n",
    "model = tf.keras.models.load_model(model_save_path)"
   ]
  },
  {
   "cell_type": "code",
   "execution_count": 164,
   "metadata": {
    "colab": {
     "base_uri": "https://localhost:8080/"
    },
    "id": "tFz9Tb0I9hE4",
    "outputId": "1c3b3528-54ae-4ee2-ab04-77429211cbef"
   },
   "outputs": [
    {
     "name": "stdout",
     "output_type": "stream",
     "text": [
      "1/1 [==============================] - 0s 36ms/step\n",
      "[3.6126648e-03 8.1917256e-01 1.7721476e-01 5.5073636e-18 6.9420900e-20\n",
      " 1.9496808e-23 2.4059578e-21]\n",
      "1\n"
     ]
    }
   ],
   "source": [
    "# Inference test\n",
    "predict_result = model.predict(np.array([X_test[0]]))\n",
    "print(np.squeeze(predict_result))\n",
    "print(np.argmax(np.squeeze(predict_result)))"
   ]
  },
  {
   "cell_type": "markdown",
   "metadata": {
    "id": "S3U4yNWx9hE4"
   },
   "source": [
    "# Confusion matrix"
   ]
  },
  {
   "cell_type": "code",
   "execution_count": 55,
   "metadata": {
    "colab": {
     "base_uri": "https://localhost:8080/",
     "height": 582
    },
    "id": "AP1V6SCk9hE5",
    "outputId": "08e41a80-7a4a-4619-8125-ecc371368d19"
   },
   "outputs": [
    {
     "name": "stdout",
     "output_type": "stream",
     "text": [
      "44/44 [==============================] - 0s 740us/step\n"
     ]
    },
    {
     "data": {
      "image/png": "[encoded data removed]",
      "text/plain": [
       "<Figure size 700x600 with 2 Axes>"
      ]
     },
     "metadata": {},
     "output_type": "display_data"
    },
    {
     "name": "stdout",
     "output_type": "stream",
     "text": [
      "Classification Report\n",
      "              precision    recall  f1-score   support\n",
      "\n",
      "           0       0.96      0.92      0.94       415\n",
      "           1       0.99      0.83      0.90       376\n",
      "           2       0.90      0.93      0.91       330\n",
      "           3       0.78      0.90      0.83        86\n",
      "           4       0.90      1.00      0.95        37\n",
      "           5       0.76      1.00      0.86        76\n",
      "           6       0.68      1.00      0.81        60\n",
      "\n",
      "    accuracy                           0.91      1380\n",
      "   macro avg       0.85      0.94      0.89      1380\n",
      "weighted avg       0.92      0.91      0.91      1380\n",
      "\n"
     ]
    }
   ],
   "source": [
    "import pandas as pd\n",
    "import seaborn as sns\n",
    "import matplotlib.pyplot as plt\n",
    "from sklearn.metrics import confusion_matrix, classification_report\n",
    "\n",
    "def print_confusion_matrix(y_true, y_pred, report=True):\n",
    "    labels = sorted(list(set(y_true)))\n",
    "    cmx_data = confusion_matrix(y_true, y_pred, labels=labels)\n",
    "    \n",
    "    df_cmx = pd.DataFrame(cmx_data, index=labels, columns=labels)\n",
    " \n",
    "    fig, ax = plt.subplots(figsize=(7, 6))\n",
    "    sns.heatmap(df_cmx, annot=True, fmt='g' ,square=False)\n",
    "    ax.set_ylim(len(set(y_true)), 0)\n",
    "    plt.show()\n",
    "    \n",
    "    if report:\n",
    "        print('Classification Report')\n",
    "        print(classification_report(y_test, y_pred))\n",
    "\n",
    "Y_pred = model.predict(X_test)\n",
    "y_pred = np.argmax(Y_pred, axis=1)\n",
    "\n",
    "print_confusion_matrix(y_test, y_pred)"
   ]
  },
  {
   "cell_type": "markdown",
   "metadata": {
    "id": "FNP6aqzc9hE5"
   },
   "source": [
    "# Convert to model for Tensorflow-Lite"
   ]
  },
  {
   "cell_type": "code",
   "execution_count": 18,
   "metadata": {
    "id": "ODjnYyld9hE6"
   },
   "outputs": [],
   "source": [
    "# Save as a model dedicated to inference\n",
    "model.save(model_save_path, include_optimizer=False)"
   ]
  },
  {
   "cell_type": "code",
   "execution_count": 19,
   "metadata": {
    "colab": {
     "base_uri": "https://localhost:8080/"
    },
    "id": "zRfuK8Y59hE6",
    "outputId": "a4ca585c-b5d5-4244-8291-8674063209bb"
   },
   "outputs": [
    {
     "name": "stderr",
     "output_type": "stream",
     "text": [
      "WARNING:absl:Found untraced functions such as _update_step_xla while saving (showing 1 of 1). These functions will not be directly callable after loading.\n"
     ]
    },
    {
     "name": "stdout",
     "output_type": "stream",
     "text": [
      "INFO:tensorflow:Assets written to: /tmp/tmpiu9zeepn/assets\n"
     ]
    },
    {
     "name": "stderr",
     "output_type": "stream",
     "text": [
      "INFO:tensorflow:Assets written to: /tmp/tmpiu9zeepn/assets\n",
      "2023-03-06 09:16:38.587560: W tensorflow/compiler/mlir/lite/python/tf_tfl_flatbuffer_helpers.cc:362] Ignored output_format.\n",
      "2023-03-06 09:16:38.587581: W tensorflow/compiler/mlir/lite/python/tf_tfl_flatbuffer_helpers.cc:365] Ignored drop_control_dependency.\n",
      "2023-03-06 09:16:38.588131: I tensorflow/cc/saved_model/reader.cc:45] Reading SavedModel from: /tmp/tmpiu9zeepn\n",
      "2023-03-06 09:16:38.589249: I tensorflow/cc/saved_model/reader.cc:89] Reading meta graph with tags { serve }\n",
      "2023-03-06 09:16:38.589263: I tensorflow/cc/saved_model/reader.cc:130] Reading SavedModel debug info (if present) from: /tmp/tmpiu9zeepn\n",
      "2023-03-06 09:16:38.593187: I tensorflow/compiler/mlir/mlir_graph_optimization_pass.cc:357] MLIR V1 optimization pass is not enabled\n",
      "2023-03-06 09:16:38.593938: I tensorflow/cc/saved_model/loader.cc:229] Restoring SavedModel bundle.\n",
      "2023-03-06 09:16:38.625172: I tensorflow/cc/saved_model/loader.cc:213] Running initialization op on SavedModel bundle at path: /tmp/tmpiu9zeepn\n",
      "2023-03-06 09:16:38.635704: I tensorflow/cc/saved_model/loader.cc:305] SavedModel load for tags { serve }; Status: success: OK. Took 47579 microseconds.\n",
      "2023-03-06 09:16:38.651242: I tensorflow/compiler/mlir/tensorflow/utils/dump_mlir_util.cc:268] disabling MLIR crash reproducer, set env var `MLIR_CRASH_REPRODUCER_DIRECTORY` to enable.\n"
     ]
    },
    {
     "data": {
      "text/plain": [
       "6704"
      ]
     },
     "execution_count": 19,
     "metadata": {},
     "output_type": "execute_result"
    }
   ],
   "source": [
    "# Transform model (quantization)\n",
    "\n",
    "converter = tf.lite.TFLiteConverter.from_keras_model(model)\n",
    "converter.optimizations = [tf.lite.Optimize.DEFAULT]\n",
    "tflite_quantized_model = converter.convert()\n",
    "\n",
    "open(tflite_save_path, 'wb').write(tflite_quantized_model)"
   ]
  },
  {
   "cell_type": "markdown",
   "metadata": {
    "id": "CHBPBXdx9hE6"
   },
   "source": [
    "# Inference test"
   ]
  },
  {
   "cell_type": "code",
   "execution_count": 20,
   "metadata": {
    "id": "mGAzLocO9hE7"
   },
   "outputs": [
    {
     "name": "stderr",
     "output_type": "stream",
     "text": [
      "INFO: Created TensorFlow Lite XNNPACK delegate for CPU.\n"
     ]
    }
   ],
   "source": [
    "interpreter = tf.lite.Interpreter(model_path=tflite_save_path)\n",
    "interpreter.allocate_tensors()"
   ]
  },
  {
   "cell_type": "code",
   "execution_count": 21,
   "metadata": {
    "id": "oQuDK8YS9hE7"
   },
   "outputs": [],
   "source": [
    "# Get I / O tensor\n",
    "input_details = interpreter.get_input_details()\n",
    "output_details = interpreter.get_output_details()"
   ]
  },
  {
   "cell_type": "code",
   "execution_count": 50,
   "metadata": {
    "id": "2_ixAf_l9hE7"
   },
   "outputs": [],
   "source": [
    "interpreter.set_tensor(input_details[0]['index'], np.array([X_test[0]]))"
   ]
  },
  {
   "cell_type": "code",
   "execution_count": 51,
   "metadata": {
    "colab": {
     "base_uri": "https://localhost:8080/"
    },
    "id": "s4FoAnuc9hE7",
    "outputId": "91f18257-8d8b-4ef3-c558-e9b5f94fabbf",
    "scrolled": true
   },
   "outputs": [
    {
     "name": "stdout",
     "output_type": "stream",
     "text": [
      "CPU times: user 37 µs, sys: 2 µs, total: 39 µs\n",
      "Wall time: 45.3 µs\n"
     ]
    }
   ],
   "source": [
    "%%time\n",
    "# Inference implementation\n",
    "interpreter.invoke()\n",
    "tflite_results = interpreter.get_tensor(output_details[0]['index'])"
   ]
  },
  {
   "cell_type": "code",
   "execution_count": 52,
   "metadata": {
    "colab": {
     "base_uri": "https://localhost:8080/"
    },
    "id": "vONjp19J9hE8",
    "outputId": "77205e24-fd00-42c4-f7b6-e06e527c2cba"
   },
   "outputs": [
    {
     "name": "stdout",
     "output_type": "stream",
     "text": [
      "[9.6528351e-01 3.4601703e-02 2.3508295e-05 9.1302078e-05]\n",
      "0\n"
     ]
    }
   ],
   "source": [
    "print(np.squeeze(tflite_results))\n",
    "print(np.argmax(np.squeeze(tflite_results)))"
   ]
  }
 ],
 "metadata": {
  "accelerator": "GPU",
  "colab": {
   "collapsed_sections": [],
   "name": "keypoint_classification_EN.ipynb",
   "provenance": [],
   "toc_visible": true
  },
  "kernelspec": {
   "display_name": "Python 3 (ipykernel)",
   "language": "python",
   "name": "python3"
  },
  "language_info": {
   "codemirror_mode": {
    "name": "ipython",
    "version": 3
   },
   "file_extension": ".py",
   "mimetype": "text/x-python",
   "name": "python",
   "nbconvert_exporter": "python",
   "pygments_lexer": "ipython3",
   "version": "3.8.10"
  }
 },
 "nbformat": 4,
 "nbformat_minor": 1
}